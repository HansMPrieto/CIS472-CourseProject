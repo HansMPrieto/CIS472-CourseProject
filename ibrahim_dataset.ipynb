{
 "cells": [
  {
   "cell_type": "markdown",
   "id": "3d5f2a79",
   "metadata": {},
   "source": [
    "<span style=\"color:black;font-size:35px\">**TODO - header**</span>"
   ]
  },
  {
   "cell_type": "code",
   "execution_count": 1,
   "id": "f21c80f1",
   "metadata": {},
   "outputs": [],
   "source": [
    "import torch\n",
    "import torch.nn as nn\n",
    "from torch import optim\n",
    "from torch.utils.data import Dataset\n",
    "from torch.utils.data import DataLoader\n",
    "from torchvision import transforms as T\n",
    "import matplotlib.pyplot as plt\n",
    "import os\n",
    "import random\n",
    "from PIL import Image\n",
    "from tqdm import tqdm\n",
    "import sys\n",
    "#sys.path.append(r'..\\models')\n",
    "sys.path.append(r'C:\\Users\\hansm\\Github\\CIS472-CourseProject\\models')\n",
    "from vgg import VGG16\n",
    "sys.path.pop()\n",
    "#sys.path.append(r'..\\training')\n",
    "sys.path.append(r'C:\\Users\\hansm\\Github\\CIS472-CourseProject\\training')\n",
    "from training import train_epoch\n",
    "sys.path.pop()\n",
    "\n",
    "device = torch.device(\"cuda\" if torch.cuda.is_available() else \"cpu\")\n",
    "\n",
    "#FILEPATH = r\"..\\..\\FISH0006 fishclassifierfinal\\intel-image-classification\"\n",
    "FILEPATH = r\"C:\\Users\\hansm\\Github\\CIS472-CourseProject\\Project Datasets\\Dataset3\\FishClassifierFinal\\archive\\intel-image-classification\""
   ]
  },
  {
   "cell_type": "code",
   "execution_count": 2,
   "id": "44cf7bd0",
   "metadata": {},
   "outputs": [],
   "source": [
    "def evaluate(model, test_data):\n",
    "    model.eval()\n",
    "    accuracy = 0\n",
    "    with torch.no_grad():\n",
    "        for (data, label) in test_data:\n",
    "#             print(data)\n",
    "            data = data.to(device)\n",
    "#             label = torch.tensor(label)\n",
    "#             print(label)\n",
    "            label = label.to(device)\n",
    "            out = model(data)\n",
    "            answers = out.max(dim=1)[1]\n",
    "#             answers = torch.max(out, dim=1)\n",
    "#             print(answers)\n",
    "            accuracy += (answers == label).sum()\n",
    "    return accuracy"
   ]
  },
  {
   "cell_type": "code",
   "execution_count": 3,
   "id": "1b0e869a",
   "metadata": {},
   "outputs": [],
   "source": [
    "# not really useful at the moment\n",
    "class My_Dataset(Dataset):\n",
    "    def __init__(self, data_path, transform=None):\n",
    "        raise NotImplementedError\n",
    "        \n",
    "    def __len__(self):\n",
    "        raise NotImplementedError\n",
    "        \n",
    "    def __getitem__(self, idx):\n",
    "        raise NotImplementedError"
   ]
  },
  {
   "cell_type": "code",
   "execution_count": 4,
   "id": "70048f3b",
   "metadata": {},
   "outputs": [],
   "source": [
    "class FishDataset(Dataset):\n",
    "    def __init__(self, data_path, train=False, shuffle=False, transform=None):\n",
    "        self.train = train\n",
    "        self.transform = transform\n",
    "        self.data_path = data_path\n",
    "        datapoints = {}\n",
    "        i = 0\n",
    "        if train:\n",
    "            for label in os.listdir(fr\"{data_path}\\seg_train\\seg_train\"):\n",
    "                for image in os.listdir(fr\"{data_path}\\seg_train\\seg_train\\{label}\"):\n",
    "                    datapoints[image] = i\n",
    "                i += 1\n",
    "        else:\n",
    "            for label in os.listdir(fr\"{data_path}\\seg_test\\seg_test\"):\n",
    "                for image in os.listdir(fr\"{data_path}\\seg_test\\seg_test\\{label}\"):\n",
    "                    datapoints[image] = i\n",
    "                i += 1\n",
    "        self._num_labels = i\n",
    "        if shuffle:\n",
    "            k = list(datapoints.keys())\n",
    "            random.shuffle(k)\n",
    "            l = [(key, datapoints[key]) for key in k]\n",
    "            datapoints = dict(l)\n",
    "        self.labels = list(datapoints.values())\n",
    "        self.images = list(datapoints.keys())\n",
    "        \n",
    "    def __len__(self):\n",
    "        return len(self.images)\n",
    "    \n",
    "    def __getitem__(self, idx):\n",
    "        folders = os.listdir(fr\"{self.data_path}\\seg_train\\seg_train\")\n",
    "        label = self.labels[idx]\n",
    "        if self.train:\n",
    "            img = Image.open(fr\"{self.data_path}\\seg_train\\seg_train\\{folders[label]}\\{self.images[idx]}\")\n",
    "        else:\n",
    "            img = Image.open(fr\"{self.data_path}\\seg_test\\seg_test\\{folders[label]}\\{self.images[idx]}\")\n",
    "        # this data set contains a number of png files with an alpha channel\n",
    "        img = img.convert(\"RGB\")\n",
    "        if self.transform is not None:\n",
    "            img = self.transform(img)\n",
    "#         if not img.shape[0] == 3:\n",
    "#             print(img.shape)\n",
    "#             img = img.convert(\"RGB\")\n",
    "#             img.cv2.cvtColor(img, cv2.COLOR_BGRA)\n",
    "        return img, label    \n",
    "\n",
    "    def num_labels(self):\n",
    "        return self._num_labels"
   ]
  },
  {
   "cell_type": "code",
   "execution_count": 5,
   "id": "297ade17",
   "metadata": {},
   "outputs": [],
   "source": [
    "fish_transform = T.Compose([T.Resize(size=(32,32)), \n",
    "                            T.RandomHorizontalFlip(), \n",
    "                            T.ToTensor(), \n",
    "                            T.Normalize(mean=[0.485, 0.456, 0.406], \n",
    "                                        std=[0.229, 0.224, 0.225])])\n",
    "\n",
    "fish_train_set = FishDataset(FILEPATH, \n",
    "                             train=True, \n",
    "                             shuffle=True, \n",
    "                             transform=fish_transform)\n",
    "fish_test_set = FishDataset(FILEPATH, \n",
    "                            train=False, \n",
    "                            shuffle=True, \n",
    "                            transform=fish_transform)"
   ]
  },
  {
   "cell_type": "code",
   "execution_count": 6,
   "id": "6484aee4",
   "metadata": {
    "scrolled": true
   },
   "outputs": [
    {
     "name": "stdout",
     "output_type": "stream",
     "text": [
      "Type: <class 'list'>\n",
      "Length: 2\n",
      "More Types: <class 'torch.Tensor'>, <class 'torch.Tensor'>\n",
      "Image Shapes: torch.Size([3, 32, 32]), torch.Size([3, 32, 32])\n",
      "Labels: tensor([ 9, 12])\n",
      "\n"
     ]
    },
    {
     "data": {
      "text/plain": [
       "<matplotlib.image.AxesImage at 0x15ba75986d0>"
      ]
     },
     "execution_count": 6,
     "metadata": {},
     "output_type": "execute_result"
    },
    {
     "data": {
      "image/png": "[encoded data removed]",
      "text/plain": [
       "<Figure size 432x288 with 2 Axes>"
      ]
     },
     "metadata": {
      "needs_background": "light"
     },
     "output_type": "display_data"
    }
   ],
   "source": [
    "fish_investigation_dataset = DataLoader(fish_train_set, batch_size=2)\n",
    "fish_data = iter(fish_investigation_dataset)\n",
    "fish_single_point = next(fish_data)\n",
    "print(f\"\"\"Type: {type(fish_single_point)}\n",
    "Length: {len(fish_single_point)}\n",
    "More Types: {type(fish_single_point[0])}, {type(fish_single_point[1])}\n",
    "Image Shapes: {fish_single_point[0][0].shape}, {fish_single_point[0][1].shape}\n",
    "Labels: {fish_single_point[1]}\n",
    "\"\"\")\n",
    "\n",
    "ToPIL = T.ToPILImage()\n",
    "img0 = ToPIL(fish_single_point[0][0])\n",
    "img1 = ToPIL(fish_single_point[0][1])\n",
    "fi_1, axs_1 = plt.subplots(1,2)\n",
    "axs_1[0].imshow(img0)\n",
    "axs_1[1].imshow(img1)"
   ]
  },
  {
   "cell_type": "markdown",
   "id": "74f3ecea",
   "metadata": {},
   "source": [
    "<span style=\"color:black;font-size:35px\">**Training**</span>"
   ]
  },
  {
   "cell_type": "code",
   "execution_count": 7,
   "id": "290255b6",
   "metadata": {},
   "outputs": [
    {
     "name": "stderr",
     "output_type": "stream",
     "text": [
      "Epoch:   0%|                                                                                 | 0/20 [00:00<?, ?epoch/s]C:\\Users\\hansm\\anaconda3\\lib\\site-packages\\PIL\\Image.py:975: UserWarning: Palette images with Transparency expressed in bytes should be converted to RGBA images\n",
      "  warnings.warn(\n",
      "Epoch:   5%|███▌                                                                  | 1/20 [03:52<1:13:34, 232.34s/epoch]"
     ]
    },
    {
     "name": "stdout",
     "output_type": "stream",
     "text": [
      "Epoch 0: loss: 2.4437713623046875\n"
     ]
    },
    {
     "name": "stderr",
     "output_type": "stream",
     "text": [
      "\r",
      "Epoch:  10%|███████▏                                                                | 2/20 [06:06<52:19, 174.40s/epoch]"
     ]
    },
    {
     "name": "stdout",
     "output_type": "stream",
     "text": [
      "Epoch 1: loss: 1.9388760328292847\n"
     ]
    },
    {
     "name": "stderr",
     "output_type": "stream",
     "text": [
      "\r",
      "Epoch:  15%|██████████▊                                                             | 3/20 [08:24<44:41, 157.76s/epoch]"
     ]
    },
    {
     "name": "stdout",
     "output_type": "stream",
     "text": [
      "Epoch 2: loss: 1.667243480682373\n"
     ]
    },
    {
     "name": "stderr",
     "output_type": "stream",
     "text": [
      "\r",
      "Epoch:  20%|██████████████▍                                                         | 4/20 [10:39<39:41, 148.82s/epoch]"
     ]
    },
    {
     "name": "stdout",
     "output_type": "stream",
     "text": [
      "Epoch 3: loss: 1.2852102518081665\n"
     ]
    },
    {
     "name": "stderr",
     "output_type": "stream",
     "text": [
      "\r",
      "Epoch:  25%|██████████████████                                                      | 5/20 [12:58<36:21, 145.44s/epoch]"
     ]
    },
    {
     "name": "stdout",
     "output_type": "stream",
     "text": [
      "Epoch 4: loss: 0.9729166030883789\n"
     ]
    },
    {
     "name": "stderr",
     "output_type": "stream",
     "text": [
      "\r",
      "Epoch:  30%|█████████████████████▌                                                  | 6/20 [15:05<32:25, 138.96s/epoch]"
     ]
    },
    {
     "name": "stdout",
     "output_type": "stream",
     "text": [
      "Epoch 5: loss: 0.8572158217430115\n"
     ]
    },
    {
     "name": "stderr",
     "output_type": "stream",
     "text": [
      "\r",
      "Epoch:  35%|█████████████████████████▏                                              | 7/20 [17:06<28:51, 133.23s/epoch]"
     ]
    },
    {
     "name": "stdout",
     "output_type": "stream",
     "text": [
      "Epoch 6: loss: 1.1809403896331787\n"
     ]
    },
    {
     "name": "stderr",
     "output_type": "stream",
     "text": [
      "\r",
      "Epoch:  40%|████████████████████████████▊                                           | 8/20 [19:14<26:19, 131.61s/epoch]"
     ]
    },
    {
     "name": "stdout",
     "output_type": "stream",
     "text": [
      "Epoch 7: loss: 0.6672099232673645\n"
     ]
    },
    {
     "name": "stderr",
     "output_type": "stream",
     "text": [
      "\r",
      "Epoch:  45%|████████████████████████████████▍                                       | 9/20 [21:54<25:44, 140.38s/epoch]"
     ]
    },
    {
     "name": "stdout",
     "output_type": "stream",
     "text": [
      "Epoch 8: loss: 0.792671263217926\n"
     ]
    },
    {
     "name": "stderr",
     "output_type": "stream",
     "text": [
      "\r",
      "Epoch:  50%|███████████████████████████████████▌                                   | 10/20 [24:25<23:55, 143.59s/epoch]"
     ]
    },
    {
     "name": "stdout",
     "output_type": "stream",
     "text": [
      "Epoch 9: loss: 0.30982327461242676\n"
     ]
    },
    {
     "name": "stderr",
     "output_type": "stream",
     "text": [
      "\r",
      "Epoch:  55%|███████████████████████████████████████                                | 11/20 [26:50<21:35, 144.00s/epoch]"
     ]
    },
    {
     "name": "stdout",
     "output_type": "stream",
     "text": [
      "Epoch 10: loss: 0.1920202523469925\n"
     ]
    },
    {
     "name": "stderr",
     "output_type": "stream",
     "text": [
      "\r",
      "Epoch:  60%|██████████████████████████████████████████▌                            | 12/20 [28:59<18:35, 139.44s/epoch]"
     ]
    },
    {
     "name": "stdout",
     "output_type": "stream",
     "text": [
      "Epoch 11: loss: 0.11030970513820648\n"
     ]
    },
    {
     "name": "stderr",
     "output_type": "stream",
     "text": [
      "\r",
      "Epoch:  65%|██████████████████████████████████████████████▏                        | 13/20 [31:05<15:47, 135.39s/epoch]"
     ]
    },
    {
     "name": "stdout",
     "output_type": "stream",
     "text": [
      "Epoch 12: loss: 0.48825833201408386\n"
     ]
    },
    {
     "name": "stderr",
     "output_type": "stream",
     "text": [
      "\r",
      "Epoch:  70%|█████████████████████████████████████████████████▋                     | 14/20 [33:15<13:23, 133.94s/epoch]"
     ]
    },
    {
     "name": "stdout",
     "output_type": "stream",
     "text": [
      "Epoch 13: loss: 0.12536799907684326\n"
     ]
    },
    {
     "name": "stderr",
     "output_type": "stream",
     "text": [
      "\r",
      "Epoch:  75%|█████████████████████████████████████████████████████▎                 | 15/20 [35:31<11:12, 134.50s/epoch]"
     ]
    },
    {
     "name": "stdout",
     "output_type": "stream",
     "text": [
      "Epoch 14: loss: 0.17410461604595184\n"
     ]
    },
    {
     "name": "stderr",
     "output_type": "stream",
     "text": [
      "\r",
      "Epoch:  80%|████████████████████████████████████████████████████████▊              | 16/20 [37:54<09:08, 137.01s/epoch]"
     ]
    },
    {
     "name": "stdout",
     "output_type": "stream",
     "text": [
      "Epoch 15: loss: 0.10083425790071487\n"
     ]
    },
    {
     "name": "stderr",
     "output_type": "stream",
     "text": [
      "\r",
      "Epoch:  85%|████████████████████████████████████████████████████████████▎          | 17/20 [40:36<07:13, 144.48s/epoch]"
     ]
    },
    {
     "name": "stdout",
     "output_type": "stream",
     "text": [
      "Epoch 16: loss: 0.05343615263700485\n"
     ]
    },
    {
     "name": "stderr",
     "output_type": "stream",
     "text": [
      "\r",
      "Epoch:  90%|███████████████████████████████████████████████████████████████▉       | 18/20 [43:25<05:03, 151.88s/epoch]"
     ]
    },
    {
     "name": "stdout",
     "output_type": "stream",
     "text": [
      "Epoch 17: loss: 0.03375926986336708\n"
     ]
    },
    {
     "name": "stderr",
     "output_type": "stream",
     "text": [
      "\r",
      "Epoch:  95%|███████████████████████████████████████████████████████████████████▍   | 19/20 [45:57<02:31, 151.84s/epoch]"
     ]
    },
    {
     "name": "stdout",
     "output_type": "stream",
     "text": [
      "Epoch 18: loss: 0.02479303441941738\n"
     ]
    },
    {
     "name": "stderr",
     "output_type": "stream",
     "text": [
      "Epoch: 100%|███████████████████████████████████████████████████████████████████████| 20/20 [48:25<00:00, 145.28s/epoch]"
     ]
    },
    {
     "name": "stdout",
     "output_type": "stream",
     "text": [
      "Epoch 19: loss: 0.16831031441688538\n"
     ]
    },
    {
     "name": "stderr",
     "output_type": "stream",
     "text": [
      "\n"
     ]
    }
   ],
   "source": [
    "vgg_learning_rate = 1e-1\n",
    "vgg_nepochs = 20\n",
    "fish_batch_size = 64\n",
    "\n",
    "fish_train_dataset = DataLoader(fish_train_set, batch_size=fish_batch_size)\n",
    "\n",
    "vgg = VGG16(hidden_features=512, nout=30).to(device)\n",
    "\n",
    "vgg_optimizer = optim.SGD(vgg.parameters(), lr=vgg_learning_rate)\n",
    "\n",
    "loss_function = nn.CrossEntropyLoss()\n",
    "\n",
    "vgg.train()\n",
    "vgg_loss_history = []\n",
    "for epoch in tqdm(range(vgg_nepochs),\n",
    "                  desc=f\"Epoch\",\n",
    "                  unit=\"epoch\",\n",
    "                  disable=False):\n",
    "    vgg_loss_history.append(train_epoch(model=vgg, \n",
    "                                        train_data=fish_train_dataset, \n",
    "                                        LossFunction=loss_function, \n",
    "                                        optimizer=vgg_optimizer))\n",
    "    print(f\"Epoch {epoch}: loss: {vgg_loss_history[-1][-1]}\")"
   ]
  },
  {
   "cell_type": "code",
   "execution_count": 8,
   "id": "aaa0dcc6",
   "metadata": {},
   "outputs": [
    {
     "data": {
      "image/png": "[encoded data removed]",
      "text/plain": [
       "<Figure size 432x288 with 1 Axes>"
      ]
     },
     "metadata": {
      "needs_background": "light"
     },
     "output_type": "display_data"
    },
    {
     "name": "stdout",
     "output_type": "stream",
     "text": [
      "Total accuracy = 72.19%\n"
     ]
    }
   ],
   "source": [
    "fish_test_dataset = DataLoader(fish_test_set, batch_size=fish_batch_size)\n",
    "\n",
    "plt.plot(list(map(lambda x: x[-1], vgg_loss_history)))\n",
    "plt.title(\"Neural Network Loss: VGG16 w/ SGD\")    \n",
    "plt.xlabel(\"Number of Epochs\")\n",
    "plt.ylabel(\"Loss\")\n",
    "plt.show()\n",
    "vgg_accuracy = evaluate(vgg, fish_test_dataset)\n",
    "print(f\"Total accuracy = {vgg_accuracy / len(fish_test_set)*100:.2f}%\")"
   ]
  }
 ],
 "metadata": {
  "kernelspec": {
   "display_name": "Python 3 (ipykernel)",
   "language": "python",
   "name": "python3"
  },
  "language_info": {
   "codemirror_mode": {
    "name": "ipython",
    "version": 3
   },
   "file_extension": ".py",
   "mimetype": "text/x-python",
   "name": "python",
   "nbconvert_exporter": "python",
   "pygments_lexer": "ipython3",
   "version": "3.9.7"
  }
 },
 "nbformat": 4,
 "nbformat_minor": 5
}
