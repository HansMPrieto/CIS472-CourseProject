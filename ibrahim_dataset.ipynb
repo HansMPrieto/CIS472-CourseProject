{
 "cells": [
  {
   "cell_type": "markdown",
   "id": "3d5f2a79",
   "metadata": {},
   "source": [
    "<span style=\"color:black;font-size:35px\">**TODO - header**</span>"
   ]
  },
  {
   "cell_type": "code",
   "execution_count": 1,
   "id": "f21c80f1",
   "metadata": {},
   "outputs": [],
   "source": [
    "import torch\n",
    "import torch.nn as nn\n",
    "from torch import optim\n",
    "from torch.utils.data import Dataset\n",
    "from torch.utils.data import DataLoader\n",
    "from torchvision import transforms as T\n",
    "import matplotlib.pyplot as plt\n",
    "import os\n",
    "import random\n",
    "from PIL import Image\n",
    "from tqdm import tqdm\n",
    "import sys\n",
    "#sys.path.append(r'..\\models')\n",
    "sys.path.append(r'C:\\Users\\hansm\\Github\\CIS472-CourseProject\\models')\n",
    "from vgg import VGG16\n",
    "from lenet import LeNet\n",
    "sys.path.pop()\n",
    "#sys.path.append(r'..\\training')\n",
    "sys.path.append(r'C:\\Users\\hansm\\Github\\CIS472-CourseProject\\training')\n",
    "from training import train_epoch\n",
    "sys.path.pop()\n",
    "\n",
    "device = torch.device(\"cuda\" if torch.cuda.is_available() else \"cpu\")\n",
    "\n",
    "#FILEPATH = r\"..\\..\\FISH0006 fishclassifierfinal\\intel-image-classification\"\n",
    "FILEPATH = r\"C:\\Users\\hansm\\Github\\CIS472-CourseProject\\Project Datasets\\Dataset3\\FishClassifierFinal\\archive\\intel-image-classification\""
   ]
  },
  {
   "cell_type": "code",
   "execution_count": 2,
   "id": "44cf7bd0",
   "metadata": {},
   "outputs": [],
   "source": [
    "def evaluate(model, test_data):\n",
    "    model.eval()\n",
    "    accuracy = 0\n",
    "    with torch.no_grad():\n",
    "        for (data, label) in test_data:\n",
    "#             print(data)\n",
    "            data = data.to(device)\n",
    "#             label = torch.tensor(label)\n",
    "#             print(label)\n",
    "            label = label.to(device)\n",
    "            out = model(data)\n",
    "            answers = out.max(dim=1)[1]\n",
    "#             answers = torch.max(out, dim=1)\n",
    "#             print(answers)\n",
    "            accuracy += (answers == label).sum()\n",
    "    return accuracy"
   ]
  },
  {
   "cell_type": "code",
   "execution_count": 3,
   "id": "1b0e869a",
   "metadata": {},
   "outputs": [],
   "source": [
    "# not really useful at the moment\n",
    "class My_Dataset(Dataset):\n",
    "    def __init__(self, data_path, transform=None):\n",
    "        raise NotImplementedError\n",
    "        \n",
    "    def __len__(self):\n",
    "        raise NotImplementedError\n",
    "        \n",
    "    def __getitem__(self, idx):\n",
    "        raise NotImplementedError"
   ]
  },
  {
   "cell_type": "code",
   "execution_count": 4,
   "id": "70048f3b",
   "metadata": {},
   "outputs": [],
   "source": [
    "class FishDataset(Dataset):\n",
    "    def __init__(self, data_path, train=False, shuffle=False, transform=None):\n",
    "        self.train = train\n",
    "        self.transform = transform\n",
    "        self.data_path = data_path\n",
    "        datapoints = {}\n",
    "        i = 0\n",
    "        if train:\n",
    "            for label in os.listdir(fr\"{data_path}\\seg_train\\seg_train\"):\n",
    "                for image in os.listdir(fr\"{data_path}\\seg_train\\seg_train\\{label}\"):\n",
    "                    datapoints[image] = i\n",
    "                i += 1\n",
    "        else:\n",
    "            for label in os.listdir(fr\"{data_path}\\seg_test\\seg_test\"):\n",
    "                for image in os.listdir(fr\"{data_path}\\seg_test\\seg_test\\{label}\"):\n",
    "                    datapoints[image] = i\n",
    "                i += 1\n",
    "        self._num_labels = i\n",
    "        if shuffle:\n",
    "            k = list(datapoints.keys())\n",
    "            random.shuffle(k)\n",
    "            l = [(key, datapoints[key]) for key in k]\n",
    "            datapoints = dict(l)\n",
    "        self.labels = list(datapoints.values())\n",
    "        self.images = list(datapoints.keys())\n",
    "        \n",
    "    def __len__(self):\n",
    "        return len(self.images)\n",
    "    \n",
    "    def __getitem__(self, idx):\n",
    "        folders = os.listdir(fr\"{self.data_path}\\seg_train\\seg_train\")\n",
    "        label = self.labels[idx]\n",
    "        if self.train:\n",
    "            img = Image.open(fr\"{self.data_path}\\seg_train\\seg_train\\{folders[label]}\\{self.images[idx]}\")\n",
    "        else:\n",
    "            img = Image.open(fr\"{self.data_path}\\seg_test\\seg_test\\{folders[label]}\\{self.images[idx]}\")\n",
    "        # this data set contains a number of png files with an alpha channel\n",
    "        img = img.convert(\"RGB\")\n",
    "        if self.transform is not None:\n",
    "            img = self.transform(img)\n",
    "#         if not img.shape[0] == 3:\n",
    "#             print(img.shape)\n",
    "#             img = img.convert(\"RGB\")\n",
    "#             img.cv2.cvtColor(img, cv2.COLOR_BGRA)\n",
    "        return img, label    \n",
    "\n",
    "    def num_labels(self):\n",
    "        return self._num_labels"
   ]
  },
  {
   "cell_type": "code",
   "execution_count": 5,
   "id": "297ade17",
   "metadata": {},
   "outputs": [],
   "source": [
    "fish_transform = T.Compose([T.Resize(size=(32,32)), \n",
    "                            T.RandomHorizontalFlip(), \n",
    "                            T.ToTensor(), \n",
    "                            T.Normalize(mean=[0.485, 0.456, 0.406], \n",
    "                                        std=[0.229, 0.224, 0.225])])\n",
    "\n",
    "fish_train_set = FishDataset(FILEPATH, \n",
    "                             train=True, \n",
    "                             shuffle=True, \n",
    "                             transform=fish_transform)\n",
    "fish_test_set = FishDataset(FILEPATH, \n",
    "                            train=False, \n",
    "                            shuffle=True, \n",
    "                            transform=fish_transform)"
   ]
  },
  {
   "cell_type": "code",
   "execution_count": 6,
   "id": "6484aee4",
   "metadata": {
    "scrolled": true
   },
   "outputs": [
    {
     "name": "stdout",
     "output_type": "stream",
     "text": [
      "Type: <class 'list'>\n",
      "Length: 2\n",
      "More Types: <class 'torch.Tensor'>, <class 'torch.Tensor'>\n",
      "Image Shapes: torch.Size([3, 32, 32]), torch.Size([3, 32, 32])\n",
      "Labels: tensor([27,  8])\n",
      "\n"
     ]
    },
    {
     "data": {
      "text/plain": [
       "<matplotlib.image.AxesImage at 0x14bb5778c40>"
      ]
     },
     "execution_count": 6,
     "metadata": {},
     "output_type": "execute_result"
    },
    {
     "data": {
      "image/png": "[encoded data removed]",
      "text/plain": [
       "<Figure size 432x288 with 2 Axes>"
      ]
     },
     "metadata": {
      "needs_background": "light"
     },
     "output_type": "display_data"
    }
   ],
   "source": [
    "fish_investigation_dataset = DataLoader(fish_train_set, batch_size=2)\n",
    "fish_data = iter(fish_investigation_dataset)\n",
    "fish_single_point = next(fish_data)\n",
    "print(f\"\"\"Type: {type(fish_single_point)}\n",
    "Length: {len(fish_single_point)}\n",
    "More Types: {type(fish_single_point[0])}, {type(fish_single_point[1])}\n",
    "Image Shapes: {fish_single_point[0][0].shape}, {fish_single_point[0][1].shape}\n",
    "Labels: {fish_single_point[1]}\n",
    "\"\"\")\n",
    "\n",
    "ToPIL = T.ToPILImage()\n",
    "img0 = ToPIL(fish_single_point[0][0])\n",
    "img1 = ToPIL(fish_single_point[0][1])\n",
    "fi_1, axs_1 = plt.subplots(1,2)\n",
    "axs_1[0].imshow(img0)\n",
    "axs_1[1].imshow(img1)"
   ]
  },
  {
   "cell_type": "markdown",
   "id": "74f3ecea",
   "metadata": {},
   "source": [
    "<span style=\"color:black;font-size:35px\">**VGG Training**</span>"
   ]
  },
  {
   "cell_type": "code",
   "execution_count": 9,
   "id": "290255b6",
   "metadata": {},
   "outputs": [
    {
     "name": "stderr",
     "output_type": "stream",
     "text": [
      "Epoch:   5%|███▌                                                                    | 1/20 [01:52<35:36, 112.47s/epoch]"
     ]
    },
    {
     "name": "stdout",
     "output_type": "stream",
     "text": [
      "Epoch 0: loss: 2.6200480461120605\n"
     ]
    },
    {
     "name": "stderr",
     "output_type": "stream",
     "text": [
      "\r",
      "Epoch:  10%|███████▏                                                                | 2/20 [03:43<33:30, 111.70s/epoch]"
     ]
    },
    {
     "name": "stdout",
     "output_type": "stream",
     "text": [
      "Epoch 1: loss: 2.252718448638916\n"
     ]
    },
    {
     "name": "stderr",
     "output_type": "stream",
     "text": [
      "\r",
      "Epoch:  15%|██████████▊                                                             | 3/20 [05:46<33:04, 116.73s/epoch]"
     ]
    },
    {
     "name": "stdout",
     "output_type": "stream",
     "text": [
      "Epoch 2: loss: 1.7675036191940308\n"
     ]
    },
    {
     "name": "stderr",
     "output_type": "stream",
     "text": [
      "\r",
      "Epoch:  20%|██████████████▍                                                         | 4/20 [07:54<32:19, 121.24s/epoch]"
     ]
    },
    {
     "name": "stdout",
     "output_type": "stream",
     "text": [
      "Epoch 3: loss: 1.5173380374908447\n"
     ]
    },
    {
     "name": "stderr",
     "output_type": "stream",
     "text": [
      "\r",
      "Epoch:  25%|██████████████████                                                      | 5/20 [09:57<30:29, 121.97s/epoch]"
     ]
    },
    {
     "name": "stdout",
     "output_type": "stream",
     "text": [
      "Epoch 4: loss: 1.206783652305603\n"
     ]
    },
    {
     "name": "stderr",
     "output_type": "stream",
     "text": [
      "\r",
      "Epoch:  30%|█████████████████████▌                                                  | 6/20 [12:00<28:30, 122.19s/epoch]"
     ]
    },
    {
     "name": "stdout",
     "output_type": "stream",
     "text": [
      "Epoch 5: loss: 1.0638233423233032\n"
     ]
    },
    {
     "name": "stderr",
     "output_type": "stream",
     "text": [
      "\r",
      "Epoch:  35%|█████████████████████████▏                                              | 7/20 [13:50<25:38, 118.34s/epoch]"
     ]
    },
    {
     "name": "stdout",
     "output_type": "stream",
     "text": [
      "Epoch 6: loss: 0.7352747917175293\n"
     ]
    },
    {
     "name": "stderr",
     "output_type": "stream",
     "text": [
      "\r",
      "Epoch:  40%|████████████████████████████▊                                           | 8/20 [15:38<23:00, 115.05s/epoch]"
     ]
    },
    {
     "name": "stdout",
     "output_type": "stream",
     "text": [
      "Epoch 7: loss: 0.49444931745529175\n"
     ]
    },
    {
     "name": "stderr",
     "output_type": "stream",
     "text": [
      "\r",
      "Epoch:  45%|████████████████████████████████▍                                       | 9/20 [17:28<20:47, 113.38s/epoch]"
     ]
    },
    {
     "name": "stdout",
     "output_type": "stream",
     "text": [
      "Epoch 8: loss: 0.4924974739551544\n"
     ]
    },
    {
     "name": "stderr",
     "output_type": "stream",
     "text": [
      "\r",
      "Epoch:  50%|███████████████████████████████████▌                                   | 10/20 [19:16<18:38, 111.87s/epoch]"
     ]
    },
    {
     "name": "stdout",
     "output_type": "stream",
     "text": [
      "Epoch 9: loss: 0.4996935725212097\n"
     ]
    },
    {
     "name": "stderr",
     "output_type": "stream",
     "text": [
      "\r",
      "Epoch:  55%|███████████████████████████████████████                                | 11/20 [21:09<16:48, 112.00s/epoch]"
     ]
    },
    {
     "name": "stdout",
     "output_type": "stream",
     "text": [
      "Epoch 10: loss: 0.25151538848876953\n"
     ]
    },
    {
     "name": "stderr",
     "output_type": "stream",
     "text": [
      "\r",
      "Epoch:  60%|██████████████████████████████████████████▌                            | 12/20 [22:56<14:43, 110.40s/epoch]"
     ]
    },
    {
     "name": "stdout",
     "output_type": "stream",
     "text": [
      "Epoch 11: loss: 0.24170561134815216\n"
     ]
    },
    {
     "name": "stderr",
     "output_type": "stream",
     "text": [
      "\r",
      "Epoch:  65%|██████████████████████████████████████████████▏                        | 13/20 [24:43<12:45, 109.39s/epoch]"
     ]
    },
    {
     "name": "stdout",
     "output_type": "stream",
     "text": [
      "Epoch 12: loss: 0.10356532037258148\n"
     ]
    },
    {
     "name": "stderr",
     "output_type": "stream",
     "text": [
      "\r",
      "Epoch:  70%|█████████████████████████████████████████████████▋                     | 14/20 [26:59<11:44, 117.48s/epoch]"
     ]
    },
    {
     "name": "stdout",
     "output_type": "stream",
     "text": [
      "Epoch 13: loss: 0.045256055891513824\n"
     ]
    },
    {
     "name": "stderr",
     "output_type": "stream",
     "text": [
      "\r",
      "Epoch:  75%|█████████████████████████████████████████████████████▎                 | 15/20 [28:52<09:41, 116.30s/epoch]"
     ]
    },
    {
     "name": "stdout",
     "output_type": "stream",
     "text": [
      "Epoch 14: loss: 0.08608497679233551\n"
     ]
    },
    {
     "name": "stderr",
     "output_type": "stream",
     "text": [
      "\r",
      "Epoch:  80%|████████████████████████████████████████████████████████▊              | 16/20 [31:01<07:59, 119.89s/epoch]"
     ]
    },
    {
     "name": "stdout",
     "output_type": "stream",
     "text": [
      "Epoch 15: loss: 0.08036113530397415\n"
     ]
    },
    {
     "name": "stderr",
     "output_type": "stream",
     "text": [
      "\r",
      "Epoch:  85%|████████████████████████████████████████████████████████████▎          | 17/20 [33:14<06:11, 123.89s/epoch]"
     ]
    },
    {
     "name": "stdout",
     "output_type": "stream",
     "text": [
      "Epoch 16: loss: 0.09379636496305466\n"
     ]
    },
    {
     "name": "stderr",
     "output_type": "stream",
     "text": [
      "\r",
      "Epoch:  90%|███████████████████████████████████████████████████████████████▉       | 18/20 [35:04<03:59, 119.71s/epoch]"
     ]
    },
    {
     "name": "stdout",
     "output_type": "stream",
     "text": [
      "Epoch 17: loss: 0.05894706770777702\n"
     ]
    },
    {
     "name": "stderr",
     "output_type": "stream",
     "text": [
      "\r",
      "Epoch:  95%|███████████████████████████████████████████████████████████████████▍   | 19/20 [36:51<01:56, 116.04s/epoch]"
     ]
    },
    {
     "name": "stdout",
     "output_type": "stream",
     "text": [
      "Epoch 18: loss: 0.013634849339723587\n"
     ]
    },
    {
     "name": "stderr",
     "output_type": "stream",
     "text": [
      "Epoch: 100%|███████████████████████████████████████████████████████████████████████| 20/20 [38:39<00:00, 115.99s/epoch]"
     ]
    },
    {
     "name": "stdout",
     "output_type": "stream",
     "text": [
      "Epoch 19: loss: 0.015211792662739754\n"
     ]
    },
    {
     "name": "stderr",
     "output_type": "stream",
     "text": [
      "\n"
     ]
    }
   ],
   "source": [
    "vgg_learning_rate = 1e-1\n",
    "vgg_nepochs = 20\n",
    "fish_batch_size = 64\n",
    "\n",
    "fish_train_dataset = DataLoader(fish_train_set, batch_size=fish_batch_size)\n",
    "\n",
    "vgg = VGG16(hidden_features=512, nout=30).to(device)\n",
    "\n",
    "vgg_optimizer = optim.SGD(vgg.parameters(), lr=vgg_learning_rate)\n",
    "\n",
    "loss_function = nn.CrossEntropyLoss()\n",
    "\n",
    "vgg.train()\n",
    "vgg_loss_history = []\n",
    "for epoch in tqdm(range(vgg_nepochs),\n",
    "                  desc=f\"Epoch\",\n",
    "                  unit=\"epoch\",\n",
    "                  disable=False):\n",
    "    vgg_loss_history.append(train_epoch(model=vgg, \n",
    "                                        train_data=fish_train_dataset, \n",
    "                                        LossFunction=loss_function, \n",
    "                                        optimizer=vgg_optimizer))\n",
    "    print(f\"Epoch {epoch}: loss: {vgg_loss_history[-1][-1]}\")"
   ]
  },
  {
   "cell_type": "code",
   "execution_count": 10,
   "id": "aaa0dcc6",
   "metadata": {},
   "outputs": [
    {
     "data": {
      "image/png": "[encoded data removed]",
      "text/plain": [
       "<Figure size 432x288 with 1 Axes>"
      ]
     },
     "metadata": {
      "needs_background": "light"
     },
     "output_type": "display_data"
    },
    {
     "name": "stdout",
     "output_type": "stream",
     "text": [
      "Total accuracy = 74.95%\n"
     ]
    }
   ],
   "source": [
    "fish_test_dataset = DataLoader(fish_test_set, batch_size=fish_batch_size)\n",
    "\n",
    "plt.plot(list(map(lambda x: x[-1], vgg_loss_history)))\n",
    "plt.title(\"Neural Network Loss: VGG16 w/ SGD\")    \n",
    "plt.xlabel(\"Number of Epochs\")\n",
    "plt.ylabel(\"Loss\")\n",
    "plt.show()\n",
    "vgg_accuracy = evaluate(vgg, fish_test_dataset)\n",
    "print(f\"Total accuracy = {vgg_accuracy / len(fish_test_set)*100:.2f}%\")"
   ]
  },
  {
   "cell_type": "markdown",
   "id": "0e7ceeb2",
   "metadata": {},
   "source": [
    "# Lenet Training"
   ]
  },
  {
   "cell_type": "code",
   "execution_count": 7,
   "id": "6d5374e3",
   "metadata": {},
   "outputs": [
    {
     "name": "stderr",
     "output_type": "stream",
     "text": [
      "Epoch:   0%|                                                                                 | 0/20 [00:00<?, ?epoch/s]C:\\Users\\hansm\\anaconda3\\lib\\site-packages\\PIL\\Image.py:975: UserWarning: Palette images with Transparency expressed in bytes should be converted to RGBA images\n",
      "  warnings.warn(\n",
      "Epoch:   5%|███▋                                                                     | 1/20 [00:39<12:28, 39.41s/epoch]"
     ]
    },
    {
     "name": "stdout",
     "output_type": "stream",
     "text": [
      "Epoch 0: loss: 2.538813591003418\n"
     ]
    },
    {
     "name": "stderr",
     "output_type": "stream",
     "text": [
      "\r",
      "Epoch:  10%|███████▎                                                                 | 2/20 [01:20<12:10, 40.57s/epoch]"
     ]
    },
    {
     "name": "stdout",
     "output_type": "stream",
     "text": [
      "Epoch 1: loss: 2.2174534797668457\n"
     ]
    },
    {
     "name": "stderr",
     "output_type": "stream",
     "text": [
      "\r",
      "Epoch:  15%|██████████▉                                                              | 3/20 [02:08<12:25, 43.86s/epoch]"
     ]
    },
    {
     "name": "stdout",
     "output_type": "stream",
     "text": [
      "Epoch 2: loss: 1.8593628406524658\n"
     ]
    },
    {
     "name": "stderr",
     "output_type": "stream",
     "text": [
      "\r",
      "Epoch:  20%|██████████████▌                                                          | 4/20 [03:01<12:38, 47.39s/epoch]"
     ]
    },
    {
     "name": "stdout",
     "output_type": "stream",
     "text": [
      "Epoch 3: loss: 1.6685986518859863\n"
     ]
    },
    {
     "name": "stderr",
     "output_type": "stream",
     "text": [
      "\r",
      "Epoch:  25%|██████████████████▎                                                      | 5/20 [03:52<12:08, 48.58s/epoch]"
     ]
    },
    {
     "name": "stdout",
     "output_type": "stream",
     "text": [
      "Epoch 4: loss: 1.6281667947769165\n"
     ]
    },
    {
     "name": "stderr",
     "output_type": "stream",
     "text": [
      "\r",
      "Epoch:  30%|█████████████████████▉                                                   | 6/20 [04:36<10:58, 47.06s/epoch]"
     ]
    },
    {
     "name": "stdout",
     "output_type": "stream",
     "text": [
      "Epoch 5: loss: 1.629101037979126\n"
     ]
    },
    {
     "name": "stderr",
     "output_type": "stream",
     "text": [
      "\r",
      "Epoch:  35%|█████████████████████████▌                                               | 7/20 [05:16<09:44, 44.94s/epoch]"
     ]
    },
    {
     "name": "stdout",
     "output_type": "stream",
     "text": [
      "Epoch 6: loss: 1.38697350025177\n"
     ]
    },
    {
     "name": "stderr",
     "output_type": "stream",
     "text": [
      "\r",
      "Epoch:  40%|█████████████████████████████▏                                           | 8/20 [05:56<08:40, 43.34s/epoch]"
     ]
    },
    {
     "name": "stdout",
     "output_type": "stream",
     "text": [
      "Epoch 7: loss: 1.3358908891677856\n"
     ]
    },
    {
     "name": "stderr",
     "output_type": "stream",
     "text": [
      "\r",
      "Epoch:  45%|████████████████████████████████▊                                        | 9/20 [06:37<07:49, 42.64s/epoch]"
     ]
    },
    {
     "name": "stdout",
     "output_type": "stream",
     "text": [
      "Epoch 8: loss: 1.3373141288757324\n"
     ]
    },
    {
     "name": "stderr",
     "output_type": "stream",
     "text": [
      "\r",
      "Epoch:  50%|████████████████████████████████████                                    | 10/20 [07:19<07:02, 42.21s/epoch]"
     ]
    },
    {
     "name": "stdout",
     "output_type": "stream",
     "text": [
      "Epoch 9: loss: 1.2801533937454224\n"
     ]
    },
    {
     "name": "stderr",
     "output_type": "stream",
     "text": [
      "\r",
      "Epoch:  55%|███████████████████████████████████████▌                                | 11/20 [08:00<06:17, 41.98s/epoch]"
     ]
    },
    {
     "name": "stdout",
     "output_type": "stream",
     "text": [
      "Epoch 10: loss: 1.2792212963104248\n"
     ]
    },
    {
     "name": "stderr",
     "output_type": "stream",
     "text": [
      "\r",
      "Epoch:  60%|███████████████████████████████████████████▏                            | 12/20 [08:40<05:31, 41.39s/epoch]"
     ]
    },
    {
     "name": "stdout",
     "output_type": "stream",
     "text": [
      "Epoch 11: loss: 0.8541301488876343\n"
     ]
    },
    {
     "name": "stderr",
     "output_type": "stream",
     "text": [
      "\r",
      "Epoch:  65%|██████████████████████████████████████████████▊                         | 13/20 [09:20<04:46, 40.93s/epoch]"
     ]
    },
    {
     "name": "stdout",
     "output_type": "stream",
     "text": [
      "Epoch 12: loss: 0.9248687028884888\n"
     ]
    },
    {
     "name": "stderr",
     "output_type": "stream",
     "text": [
      "\r",
      "Epoch:  70%|██████████████████████████████████████████████████▍                     | 14/20 [09:59<04:02, 40.41s/epoch]"
     ]
    },
    {
     "name": "stdout",
     "output_type": "stream",
     "text": [
      "Epoch 13: loss: 0.8602514266967773\n"
     ]
    },
    {
     "name": "stderr",
     "output_type": "stream",
     "text": [
      "\r",
      "Epoch:  75%|██████████████████████████████████████████████████████                  | 15/20 [10:46<03:31, 42.28s/epoch]"
     ]
    },
    {
     "name": "stdout",
     "output_type": "stream",
     "text": [
      "Epoch 14: loss: 0.7742583155632019\n"
     ]
    },
    {
     "name": "stderr",
     "output_type": "stream",
     "text": [
      "\r",
      "Epoch:  80%|█████████████████████████████████████████████████████████▌              | 16/20 [11:28<02:49, 42.37s/epoch]"
     ]
    },
    {
     "name": "stdout",
     "output_type": "stream",
     "text": [
      "Epoch 15: loss: 0.6747252941131592\n"
     ]
    },
    {
     "name": "stderr",
     "output_type": "stream",
     "text": [
      "\r",
      "Epoch:  85%|█████████████████████████████████████████████████████████████▏          | 17/20 [12:09<02:06, 42.02s/epoch]"
     ]
    },
    {
     "name": "stdout",
     "output_type": "stream",
     "text": [
      "Epoch 16: loss: 0.6217914819717407\n"
     ]
    },
    {
     "name": "stderr",
     "output_type": "stream",
     "text": [
      "\r",
      "Epoch:  90%|████████████████████████████████████████████████████████████████▊       | 18/20 [12:50<01:23, 41.53s/epoch]"
     ]
    },
    {
     "name": "stdout",
     "output_type": "stream",
     "text": [
      "Epoch 17: loss: 0.5108365416526794\n"
     ]
    },
    {
     "name": "stderr",
     "output_type": "stream",
     "text": [
      "\r",
      "Epoch:  95%|████████████████████████████████████████████████████████████████████▍   | 19/20 [13:30<00:41, 41.11s/epoch]"
     ]
    },
    {
     "name": "stdout",
     "output_type": "stream",
     "text": [
      "Epoch 18: loss: 0.49507904052734375\n"
     ]
    },
    {
     "name": "stderr",
     "output_type": "stream",
     "text": [
      "Epoch: 100%|████████████████████████████████████████████████████████████████████████| 20/20 [14:13<00:00, 42.66s/epoch]"
     ]
    },
    {
     "name": "stdout",
     "output_type": "stream",
     "text": [
      "Epoch 19: loss: 0.4310540556907654\n"
     ]
    },
    {
     "name": "stderr",
     "output_type": "stream",
     "text": [
      "\n"
     ]
    }
   ],
   "source": [
    "lenet_learning_rate = 0.001\n",
    "lenet_nepochs = 20\n",
    "lenet_batch_size = 32\n",
    "\n",
    "fish_train_dataset = DataLoader(fish_train_set, batch_size=lenet_batch_size)\n",
    "\n",
    "lenet = LeNet(num_classes=30).to(device)\n",
    "\n",
    "lenet_optimizer = optim.Adam(lenet.parameters(), lr=lenet_learning_rate)\n",
    "\n",
    "loss_function = nn.CrossEntropyLoss()\n",
    "\n",
    "lenet.train()\n",
    "lenet_loss_history = []\n",
    "for epoch in tqdm(range(lenet_nepochs),\n",
    "                  desc=f\"Epoch\",\n",
    "                  unit=\"epoch\",\n",
    "                  disable=False):\n",
    "    lenet_loss_history.append(train_epoch(model=lenet,\n",
    "                                          train_data=fish_train_dataset,\n",
    "                                          LossFunction=loss_function,\n",
    "                                          optimizer=lenet_optimizer))\n",
    "    print(f\"Epoch {epoch}: loss: {lenet_loss_history[-1][-1]}\")"
   ]
  },
  {
   "cell_type": "code",
   "execution_count": 8,
   "id": "293a0e56",
   "metadata": {},
   "outputs": [
    {
     "data": {
      "image/png": "[encoded data removed]",
      "text/plain": [
       "<Figure size 432x288 with 1 Axes>"
      ]
     },
     "metadata": {
      "needs_background": "light"
     },
     "output_type": "display_data"
    },
    {
     "name": "stdout",
     "output_type": "stream",
     "text": [
      "Total accuracy = 58.98%\n"
     ]
    }
   ],
   "source": [
    "fish_test_dataset = DataLoader(fish_test_set, batch_size=lenet_batch_size)\n",
    "\n",
    "plt.plot(list(map(lambda x: x[-1], lenet_loss_history)))\n",
    "plt.title(\"Neural Network Loss: LeNet w/ Adam\")    \n",
    "plt.xlabel(\"Number of Epochs\")\n",
    "plt.ylabel(\"Loss\")\n",
    "plt.show()\n",
    "lenet_accuracy = evaluate(lenet, fish_test_dataset)\n",
    "print(f\"Total accuracy = {lenet_accuracy / len(fish_test_set)*100:.2f}%\")"
   ]
  }
 ],
 "metadata": {
  "kernelspec": {
   "display_name": "Python 3 (ipykernel)",
   "language": "python",
   "name": "python3"
  },
  "language_info": {
   "codemirror_mode": {
    "name": "ipython",
    "version": 3
   },
   "file_extension": ".py",
   "mimetype": "text/x-python",
   "name": "python",
   "nbconvert_exporter": "python",
   "pygments_lexer": "ipython3",
   "version": "3.9.7"
  }
 },
 "nbformat": 4,
 "nbformat_minor": 5
}
