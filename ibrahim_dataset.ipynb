{
 "cells": [
  {
   "cell_type": "markdown",
   "id": "3d5f2a79",
   "metadata": {},
   "source": [
    "<span style=\"color:black;font-size:35px\">**Ibrahim Fish Dataset**</span>"
   ]
  },
  {
   "cell_type": "code",
   "execution_count": 1,
   "id": "f21c80f1",
   "metadata": {},
   "outputs": [],
   "source": [
    "CWD = r'C:\\Users\\Evant\\Desktop\\cis472\\latest\\CIS472-CourseProject'\n",
    "import torch\n",
    "import torch.nn as nn\n",
    "from torch import optim\n",
    "from torch.utils.data import Dataset\n",
    "from torch.utils.data import DataLoader\n",
    "from torchvision import transforms as T\n",
    "import matplotlib.pyplot as plt\n",
    "import os\n",
    "import random\n",
    "from PIL import Image\n",
    "from tqdm import tqdm\n",
    "import sys\n",
    "sys.path.append(CWD+r'\\models')\n",
    "# sys.path.append(r'C:\\Users\\hansm\\Github\\CIS472-CourseProject\\models')\n",
    "from vgg import VGG16\n",
    "from lenet import LeNet\n",
    "sys.path.pop()\n",
    "#sys.path.append(r'..\\training')\n",
    "# sys.path.append(r'C:\\Users\\hansm\\Github\\CIS472-CourseProject\\training')\n",
    "# from training import train_epoch\n",
    "# sys.path.pop()\n",
    "\n",
    "device = torch.device(\"cuda\" if torch.cuda.is_available() else \"cpu\")\n",
    "\n",
    "FILEPATH = r\"..\\..\\FISH0006 fishclassifierfinal\\intel-image-classification\"\n",
    "# FILEPATH = r\"C:\\Users\\hansm\\Github\\CIS472-CourseProject\\Project Datasets\\Dataset3\\FishClassifierFinal\\archive\\intel-image-classification\""
   ]
  },
  {
   "cell_type": "code",
   "execution_count": 2,
   "id": "44cf7bd0",
   "metadata": {},
   "outputs": [],
   "source": [
    "def evaluate(model, test_data):\n",
    "    model.eval()\n",
    "    accuracy = 0\n",
    "    with torch.no_grad():\n",
    "        for (data, label) in test_data:\n",
    "#             print(data)\n",
    "            data = data.to(device)\n",
    "#             label = torch.tensor(label)\n",
    "#             print(label)\n",
    "            label = label.to(device)\n",
    "            out = model(data)\n",
    "            answers = out.max(dim=1)[1]\n",
    "#             answers = torch.max(out, dim=1)\n",
    "#             print(answers)\n",
    "            accuracy += (answers == label).sum()\n",
    "    return accuracy"
   ]
  },
  {
   "cell_type": "code",
   "execution_count": 51,
   "id": "e9f8b7d9",
   "metadata": {},
   "outputs": [],
   "source": [
    "def train_epoch(model, train_data, LossFunction, optimizer):\n",
    "#     model.to(device)\n",
    "    model.train()\n",
    "    loss_history = []\n",
    "    acc_history = []\n",
    "    correct = 0\n",
    "    for (data, label) in tqdm(train_data, desc=\"iteration\", unit=\"%\", disable=True):\n",
    "        # clear the gradients\n",
    "        optimizer.zero_grad(set_to_none=True)\n",
    "        \n",
    "        # send the data and labels to the same device as the training model\n",
    "        data = data.to(device)\n",
    "#         print(label.shape)\n",
    "        label = label.to(device)\n",
    "\n",
    "        # get the output from the model\n",
    "        out = model(data)\n",
    "#         print(out.shape)\n",
    "        _, output = torch.max(out, 1)\n",
    "        \n",
    "        # calculate loss\n",
    "        loss = LossFunction(out, label)\n",
    "        \n",
    "        # calculate gradients and perform gradient descent\n",
    "        loss.backward()\n",
    "        optimizer.step()\n",
    "        correct += (output == label).float().sum()\n",
    "        loss_history.append(loss.item())\n",
    "    accuracy = 100 * correct / len(fish_train_set)\n",
    "    return loss_history, accuracy"
   ]
  },
  {
   "cell_type": "code",
   "execution_count": 4,
   "id": "1b0e869a",
   "metadata": {},
   "outputs": [],
   "source": [
    "# not really useful at the moment\n",
    "class My_Dataset(Dataset):\n",
    "    def __init__(self, data_path, transform=None):\n",
    "        raise NotImplementedError\n",
    "        \n",
    "    def __len__(self):\n",
    "        raise NotImplementedError\n",
    "        \n",
    "    def __getitem__(self, idx):\n",
    "        raise NotImplementedError"
   ]
  },
  {
   "cell_type": "code",
   "execution_count": 5,
   "id": "70048f3b",
   "metadata": {},
   "outputs": [],
   "source": [
    "class FishDataset(Dataset):\n",
    "    def __init__(self, data_path, train=False, shuffle=False, transform=None):\n",
    "        self.train = train\n",
    "        self.transform = transform\n",
    "        self.data_path = data_path\n",
    "        datapoints = {}\n",
    "        i = 0\n",
    "        if train:\n",
    "            for label in os.listdir(fr\"{data_path}\\seg_train\\seg_train\"):\n",
    "                for image in os.listdir(fr\"{data_path}\\seg_train\\seg_train\\{label}\"):\n",
    "                    datapoints[image] = i\n",
    "                i += 1\n",
    "        else:\n",
    "            for label in os.listdir(fr\"{data_path}\\seg_test\\seg_test\"):\n",
    "                for image in os.listdir(fr\"{data_path}\\seg_test\\seg_test\\{label}\"):\n",
    "                    datapoints[image] = i\n",
    "                i += 1\n",
    "        self._num_labels = i\n",
    "        if shuffle:\n",
    "            k = list(datapoints.keys())\n",
    "            random.shuffle(k)\n",
    "            l = [(key, datapoints[key]) for key in k]\n",
    "            datapoints = dict(l)\n",
    "        self.labels = list(datapoints.values())\n",
    "        self.images = list(datapoints.keys())\n",
    "        \n",
    "    def __len__(self):\n",
    "        return len(self.images)\n",
    "    \n",
    "    def __getitem__(self, idx):\n",
    "        folders = os.listdir(fr\"{self.data_path}\\seg_train\\seg_train\")\n",
    "        label = self.labels[idx]\n",
    "        if self.train:\n",
    "            img = Image.open(fr\"{self.data_path}\\seg_train\\seg_train\\{folders[label]}\\{self.images[idx]}\")\n",
    "        else:\n",
    "            img = Image.open(fr\"{self.data_path}\\seg_test\\seg_test\\{folders[label]}\\{self.images[idx]}\")\n",
    "        # this data set contains a number of png files with an alpha channel\n",
    "        img = img.convert(\"RGB\")\n",
    "        if self.transform is not None:\n",
    "            img = self.transform(img)\n",
    "#         if not img.shape[0] == 3:\n",
    "#             print(img.shape)\n",
    "#             img = img.convert(\"RGB\")\n",
    "#             img.cv2.cvtColor(img, cv2.COLOR_BGRA)\n",
    "        return img, label    \n",
    "\n",
    "    def num_labels(self):\n",
    "        return self._num_labels"
   ]
  },
  {
   "cell_type": "code",
   "execution_count": 6,
   "id": "297ade17",
   "metadata": {},
   "outputs": [],
   "source": [
    "fish_transform = T.Compose([T.Resize(size=(32,32)), \n",
    "                            T.RandomHorizontalFlip(), \n",
    "                            T.ToTensor(), \n",
    "                            T.Normalize(mean=[0.485, 0.456, 0.406], \n",
    "                                        std=[0.229, 0.224, 0.225])])\n",
    "\n",
    "fish_train_set = FishDataset(FILEPATH, \n",
    "                             train=True, \n",
    "                             shuffle=True, \n",
    "                             transform=fish_transform)\n",
    "fish_test_set = FishDataset(FILEPATH, \n",
    "                            train=False, \n",
    "                            shuffle=True, \n",
    "                            transform=fish_transform)"
   ]
  },
  {
   "cell_type": "code",
   "execution_count": 7,
   "id": "6484aee4",
   "metadata": {
    "scrolled": true
   },
   "outputs": [
    {
     "name": "stdout",
     "output_type": "stream",
     "text": [
      "Type: <class 'list'>\n",
      "Length: 2\n",
      "More Types: <class 'torch.Tensor'>, <class 'torch.Tensor'>\n",
      "Image Shapes: torch.Size([3, 32, 32]), torch.Size([3, 32, 32])\n",
      "Labels: tensor([15,  1])\n",
      "\n"
     ]
    },
    {
     "data": {
      "text/plain": [
       "<matplotlib.image.AxesImage at 0x225d1e28f70>"
      ]
     },
     "execution_count": 7,
     "metadata": {},
     "output_type": "execute_result"
    },
    {
     "data": {
      "image/png": "[encoded data removed]",
      "text/plain": [
       "<Figure size 432x288 with 2 Axes>"
      ]
     },
     "metadata": {
      "needs_background": "light"
     },
     "output_type": "display_data"
    }
   ],
   "source": [
    "fish_investigation_dataset = DataLoader(fish_train_set, batch_size=2)\n",
    "fish_data = iter(fish_investigation_dataset)\n",
    "fish_single_point = next(fish_data)\n",
    "print(f\"\"\"Type: {type(fish_single_point)}\n",
    "Length: {len(fish_single_point)}\n",
    "More Types: {type(fish_single_point[0])}, {type(fish_single_point[1])}\n",
    "Image Shapes: {fish_single_point[0][0].shape}, {fish_single_point[0][1].shape}\n",
    "Labels: {fish_single_point[1]}\n",
    "\"\"\")\n",
    "\n",
    "ToPIL = T.ToPILImage()\n",
    "img0 = ToPIL(fish_single_point[0][0])\n",
    "img1 = ToPIL(fish_single_point[0][1])\n",
    "fi_1, axs_1 = plt.subplots(1,2)\n",
    "axs_1[0].imshow(img0)\n",
    "axs_1[1].imshow(img1)"
   ]
  },
  {
   "cell_type": "markdown",
   "id": "74f3ecea",
   "metadata": {},
   "source": [
    "<span style=\"color:black;font-size:35px\">**VGG Training**</span>"
   ]
  },
  {
   "cell_type": "code",
   "execution_count": 9,
   "id": "fb6c63c6",
   "metadata": {},
   "outputs": [],
   "source": [
    "vgg_learning_rate = 1e-1\n",
    "vgg_nepochs = 20\n",
    "fish_batch_size = 64\n",
    "\n",
    "fish_train_dataset = DataLoader(fish_train_set, batch_size=fish_batch_size)\n",
    "fish_test_dataset = DataLoader(fish_test_set, batch_size=fish_batch_size)\n",
    "\n",
    "loss_function = nn.CrossEntropyLoss()"
   ]
  },
  {
   "cell_type": "code",
   "execution_count": 35,
   "id": "290255b6",
   "metadata": {
    "scrolled": true
   },
   "outputs": [
    {
     "name": "stderr",
     "output_type": "stream",
     "text": [
      "Epoch:   5%|███▋                                                                     | 1/20 [00:28<08:59, 28.41s/epoch]"
     ]
    },
    {
     "name": "stdout",
     "output_type": "stream",
     "text": [
      "Epoch 0:\n",
      "train loss: 2.342909574508667\n",
      "train acc:  17.547739028930664 test acc: 22.28318214416504\n"
     ]
    },
    {
     "name": "stderr",
     "output_type": "stream",
     "text": [
      "\r",
      "Epoch:  10%|███████▎                                                                 | 2/20 [00:57<08:36, 28.70s/epoch]"
     ]
    },
    {
     "name": "stdout",
     "output_type": "stream",
     "text": [
      "Epoch 1:\n",
      "train loss: 1.6503775119781494\n",
      "train acc:  34.93467330932617 test acc: 37.49736404418945\n"
     ]
    },
    {
     "name": "stderr",
     "output_type": "stream",
     "text": [
      "\r",
      "Epoch:  15%|██████████▉                                                              | 3/20 [01:27<08:17, 29.27s/epoch]"
     ]
    },
    {
     "name": "stdout",
     "output_type": "stream",
     "text": [
      "Epoch 2:\n",
      "train loss: 1.46367347240448\n",
      "train acc:  48.743717193603516 test acc: 40.93690490722656\n"
     ]
    },
    {
     "name": "stderr",
     "output_type": "stream",
     "text": [
      "\r",
      "Epoch:  20%|██████████████▌                                                          | 4/20 [01:55<07:44, 29.03s/epoch]"
     ]
    },
    {
     "name": "stdout",
     "output_type": "stream",
     "text": [
      "Epoch 3:\n",
      "train loss: 1.047526478767395\n",
      "train acc:  57.809043884277344 test acc: 47.03523635864258\n"
     ]
    },
    {
     "name": "stderr",
     "output_type": "stream",
     "text": [
      "\r",
      "Epoch:  25%|██████████████████▎                                                      | 5/20 [02:24<07:15, 29.03s/epoch]"
     ]
    },
    {
     "name": "stdout",
     "output_type": "stream",
     "text": [
      "Epoch 4:\n",
      "train loss: 0.690542995929718\n",
      "train acc:  64.18090057373047 test acc: 49.39860534667969\n"
     ]
    },
    {
     "name": "stderr",
     "output_type": "stream",
     "text": [
      "\r",
      "Epoch:  30%|█████████████████████▉                                                   | 6/20 [02:53<06:42, 28.76s/epoch]"
     ]
    },
    {
     "name": "stdout",
     "output_type": "stream",
     "text": [
      "Epoch 5:\n",
      "train loss: 0.7231730222702026\n",
      "train acc:  70.51256561279297 test acc: 53.36568832397461\n"
     ]
    },
    {
     "name": "stderr",
     "output_type": "stream",
     "text": [
      "\r",
      "Epoch:  35%|█████████████████████████▌                                               | 7/20 [03:21<06:11, 28.57s/epoch]"
     ]
    },
    {
     "name": "stdout",
     "output_type": "stream",
     "text": [
      "Epoch 6:\n",
      "train loss: 0.4805915951728821\n",
      "train acc:  74.25125885009766 test acc: 58.00801467895508\n"
     ]
    },
    {
     "name": "stderr",
     "output_type": "stream",
     "text": [
      "\r",
      "Epoch:  40%|█████████████████████████████▏                                           | 8/20 [03:49<05:41, 28.46s/epoch]"
     ]
    },
    {
     "name": "stdout",
     "output_type": "stream",
     "text": [
      "Epoch 7:\n",
      "train loss: 0.2482481747865677\n",
      "train acc:  79.51758575439453 test acc: 62.945770263671875\n"
     ]
    },
    {
     "name": "stderr",
     "output_type": "stream",
     "text": [
      "\r",
      "Epoch:  45%|████████████████████████████████▊                                        | 9/20 [04:19<05:18, 28.95s/epoch]"
     ]
    },
    {
     "name": "stdout",
     "output_type": "stream",
     "text": [
      "Epoch 8:\n",
      "train loss: 0.3624464273452759\n",
      "train acc:  83.35678100585938 test acc: 64.8871078491211\n"
     ]
    },
    {
     "name": "stderr",
     "output_type": "stream",
     "text": [
      "\r",
      "Epoch:  50%|████████████████████████████████████                                    | 10/20 [04:48<04:48, 28.83s/epoch]"
     ]
    },
    {
     "name": "stdout",
     "output_type": "stream",
     "text": [
      "Epoch 9:\n",
      "train loss: 0.2704249322414398\n",
      "train acc:  85.7889404296875 test acc: 61.21544647216797\n"
     ]
    },
    {
     "name": "stderr",
     "output_type": "stream",
     "text": [
      "\r",
      "Epoch:  55%|███████████████████████████████████████▌                                | 11/20 [05:16<04:19, 28.79s/epoch]"
     ]
    },
    {
     "name": "stdout",
     "output_type": "stream",
     "text": [
      "Epoch 10:\n",
      "train loss: 0.28702491521835327\n",
      "train acc:  88.34170532226562 test acc: 61.10993576049805\n"
     ]
    },
    {
     "name": "stderr",
     "output_type": "stream",
     "text": [
      "\r",
      "Epoch:  60%|███████████████████████████████████████████▏                            | 12/20 [05:45<03:50, 28.78s/epoch]"
     ]
    },
    {
     "name": "stdout",
     "output_type": "stream",
     "text": [
      "Epoch 11:\n",
      "train loss: 0.17457284033298492\n",
      "train acc:  90.29145812988281 test acc: 69.76155090332031\n"
     ]
    },
    {
     "name": "stderr",
     "output_type": "stream",
     "text": [
      "\r",
      "Epoch:  65%|██████████████████████████████████████████████▊                         | 13/20 [06:14<03:21, 28.73s/epoch]"
     ]
    },
    {
     "name": "stdout",
     "output_type": "stream",
     "text": [
      "Epoch 12:\n",
      "train loss: 0.13268548250198364\n",
      "train acc:  91.75879669189453 test acc: 67.96792602539062\n"
     ]
    },
    {
     "name": "stderr",
     "output_type": "stream",
     "text": [
      "\r",
      "Epoch:  70%|██████████████████████████████████████████████████▍                     | 14/20 [06:42<02:52, 28.69s/epoch]"
     ]
    },
    {
     "name": "stdout",
     "output_type": "stream",
     "text": [
      "Epoch 13:\n",
      "train loss: 0.23241649568080902\n",
      "train acc:  92.40200805664062 test acc: 66.36421203613281\n"
     ]
    },
    {
     "name": "stderr",
     "output_type": "stream",
     "text": [
      "\r",
      "Epoch:  75%|██████████████████████████████████████████████████████                  | 15/20 [07:11<02:23, 28.73s/epoch]"
     ]
    },
    {
     "name": "stdout",
     "output_type": "stream",
     "text": [
      "Epoch 14:\n",
      "train loss: 0.06305122375488281\n",
      "train acc:  96.16080474853516 test acc: 75.18463897705078\n"
     ]
    },
    {
     "name": "stderr",
     "output_type": "stream",
     "text": [
      "\r",
      "Epoch:  80%|█████████████████████████████████████████████████████████▌              | 16/20 [07:39<01:54, 28.60s/epoch]"
     ]
    },
    {
     "name": "stdout",
     "output_type": "stream",
     "text": [
      "Epoch 15:\n",
      "train loss: 0.07724814862012863\n",
      "train acc:  94.9346694946289 test acc: 73.13778686523438\n"
     ]
    },
    {
     "name": "stderr",
     "output_type": "stream",
     "text": [
      "\r",
      "Epoch:  85%|█████████████████████████████████████████████████████████████▏          | 17/20 [08:08<01:25, 28.52s/epoch]"
     ]
    },
    {
     "name": "stdout",
     "output_type": "stream",
     "text": [
      "Epoch 16:\n",
      "train loss: 0.19118590652942657\n",
      "train acc:  96.10050201416016 test acc: 70.8166275024414\n"
     ]
    },
    {
     "name": "stderr",
     "output_type": "stream",
     "text": [
      "\r",
      "Epoch:  90%|████████████████████████████████████████████████████████████████▊       | 18/20 [08:36<00:57, 28.51s/epoch]"
     ]
    },
    {
     "name": "stdout",
     "output_type": "stream",
     "text": [
      "Epoch 17:\n",
      "train loss: 0.026381319388747215\n",
      "train acc:  95.59799194335938 test acc: 72.96897888183594\n"
     ]
    },
    {
     "name": "stderr",
     "output_type": "stream",
     "text": [
      "\r",
      "Epoch:  95%|████████████████████████████████████████████████████████████████████▍   | 19/20 [09:05<00:28, 28.64s/epoch]"
     ]
    },
    {
     "name": "stdout",
     "output_type": "stream",
     "text": [
      "Epoch 18:\n",
      "train loss: 0.07925194501876831\n",
      "train acc:  97.10552978515625 test acc: 75.50115966796875\n"
     ]
    },
    {
     "name": "stderr",
     "output_type": "stream",
     "text": [
      "Epoch: 100%|████████████████████████████████████████████████████████████████████████| 20/20 [09:34<00:00, 28.74s/epoch]"
     ]
    },
    {
     "name": "stdout",
     "output_type": "stream",
     "text": [
      "Epoch 19:\n",
      "train loss: 0.04949972406029701\n",
      "train acc:  97.92964935302734 test acc: 76.11310577392578\n"
     ]
    },
    {
     "name": "stderr",
     "output_type": "stream",
     "text": [
      "\n"
     ]
    }
   ],
   "source": [
    "vgg = VGG16(hidden_features=512, nout=30, dropout=False).to(device)\n",
    "# print(vgg)\n",
    "\n",
    "vgg_optimizer_sgd = optim.SGD(vgg.parameters(), lr=vgg_learning_rate)\n",
    "\n",
    "loss_function = nn.CrossEntropyLoss()\n",
    "\n",
    "vgg.train()\n",
    "vgg_loss_history = []\n",
    "vgg_train_acc_history = []\n",
    "vgg_test_acc_history = []\n",
    "for epoch in tqdm(range(vgg_nepochs),\n",
    "                  desc=f\"Epoch\",\n",
    "                  unit=\"epoch\",\n",
    "                  disable=False):\n",
    "#     vgg_loss_history.append\n",
    "    loss_history, accuracy = (train_epoch(model=vgg, \n",
    "                                        train_data=fish_train_dataset, \n",
    "                                        LossFunction=loss_function, \n",
    "                                        optimizer=vgg_optimizer_sgd))\n",
    "    vgg_loss_history.append(loss_history)\n",
    "    vgg_train_acc_history.append(accuracy)\n",
    "    vgg_test_acc_history.append((evaluate(vgg, fish_test_dataset) / len(fish_test_set)) * 100)\n",
    "\n",
    "    print(f\"Epoch {epoch}:\\ntrain loss: {vgg_loss_history[-1][-1]}\"\n",
    "          f\"\\ntrain acc:  {float(vgg_train_acc_history[-1])} test acc: {float(vgg_test_acc_history[-1])}\")"
   ]
  },
  {
   "cell_type": "code",
   "execution_count": 30,
   "id": "26dea829",
   "metadata": {},
   "outputs": [
    {
     "name": "stderr",
     "output_type": "stream",
     "text": [
      "Epoch:   5%|███▋                                                                     | 1/20 [00:28<09:10, 28.97s/epoch]"
     ]
    },
    {
     "name": "stdout",
     "output_type": "stream",
     "text": [
      "Epoch 0:\n",
      "train loss: 2.7814724445343018\n",
      "train acc:  12.402009963989258 test acc: 19.075754165649414\n"
     ]
    },
    {
     "name": "stderr",
     "output_type": "stream",
     "text": [
      "\r",
      "Epoch:  10%|███████▎                                                                 | 2/20 [00:58<08:48, 29.36s/epoch]"
     ]
    },
    {
     "name": "stdout",
     "output_type": "stream",
     "text": [
      "Epoch 1:\n",
      "train loss: 2.3396339416503906\n",
      "train acc:  26.492462158203125 test acc: 32.7495231628418\n"
     ]
    },
    {
     "name": "stderr",
     "output_type": "stream",
     "text": [
      "\r",
      "Epoch:  15%|██████████▉                                                              | 3/20 [01:27<08:13, 29.05s/epoch]"
     ]
    },
    {
     "name": "stdout",
     "output_type": "stream",
     "text": [
      "Epoch 2:\n",
      "train loss: 1.970969319343567\n",
      "train acc:  34.41205978393555 test acc: 36.737709045410156\n"
     ]
    },
    {
     "name": "stderr",
     "output_type": "stream",
     "text": [
      "\r",
      "Epoch:  20%|██████████████▌                                                          | 4/20 [01:55<07:42, 28.88s/epoch]"
     ]
    },
    {
     "name": "stdout",
     "output_type": "stream",
     "text": [
      "Epoch 3:\n",
      "train loss: 1.7560522556304932\n",
      "train acc:  42.67336654663086 test acc: 41.21122741699219\n"
     ]
    },
    {
     "name": "stderr",
     "output_type": "stream",
     "text": [
      "\r",
      "Epoch:  25%|██████████████████▎                                                      | 5/20 [02:24<07:11, 28.79s/epoch]"
     ]
    },
    {
     "name": "stdout",
     "output_type": "stream",
     "text": [
      "Epoch 4:\n",
      "train loss: 1.329754114151001\n",
      "train acc:  49.76884460449219 test acc: 47.87929916381836\n"
     ]
    },
    {
     "name": "stderr",
     "output_type": "stream",
     "text": [
      "\r",
      "Epoch:  30%|█████████████████████▉                                                   | 6/20 [02:53<06:42, 28.75s/epoch]"
     ]
    },
    {
     "name": "stdout",
     "output_type": "stream",
     "text": [
      "Epoch 5:\n",
      "train loss: 1.2441959381103516\n",
      "train acc:  54.97487258911133 test acc: 51.67756652832031\n"
     ]
    },
    {
     "name": "stderr",
     "output_type": "stream",
     "text": [
      "\r",
      "Epoch:  35%|█████████████████████████▌                                               | 7/20 [03:21<06:13, 28.71s/epoch]"
     ]
    },
    {
     "name": "stdout",
     "output_type": "stream",
     "text": [
      "Epoch 6:\n",
      "train loss: 1.2472467422485352\n",
      "train acc:  59.175880432128906 test acc: 52.395023345947266\n"
     ]
    },
    {
     "name": "stderr",
     "output_type": "stream",
     "text": [
      "\r",
      "Epoch:  40%|█████████████████████████████▏                                           | 8/20 [03:50<05:44, 28.71s/epoch]"
     ]
    },
    {
     "name": "stdout",
     "output_type": "stream",
     "text": [
      "Epoch 7:\n",
      "train loss: 1.141769289970398\n",
      "train acc:  63.73869323730469 test acc: 53.15467071533203\n"
     ]
    },
    {
     "name": "stderr",
     "output_type": "stream",
     "text": [
      "\r",
      "Epoch:  45%|████████████████████████████████▊                                        | 9/20 [04:19<05:16, 28.75s/epoch]"
     ]
    },
    {
     "name": "stdout",
     "output_type": "stream",
     "text": [
      "Epoch 8:\n",
      "train loss: 0.9606029391288757\n",
      "train acc:  66.95477294921875 test acc: 53.7666130065918\n"
     ]
    },
    {
     "name": "stderr",
     "output_type": "stream",
     "text": [
      "\r",
      "Epoch:  50%|████████████████████████████████████                                    | 10/20 [04:48<04:47, 28.76s/epoch]"
     ]
    },
    {
     "name": "stdout",
     "output_type": "stream",
     "text": [
      "Epoch 9:\n",
      "train loss: 0.9557591080665588\n",
      "train acc:  70.31155395507812 test acc: 53.471195220947266\n"
     ]
    },
    {
     "name": "stderr",
     "output_type": "stream",
     "text": [
      "\r",
      "Epoch:  55%|███████████████████████████████████████▌                                | 11/20 [05:17<04:19, 28.80s/epoch]"
     ]
    },
    {
     "name": "stdout",
     "output_type": "stream",
     "text": [
      "Epoch 10:\n",
      "train loss: 0.6722424626350403\n",
      "train acc:  73.0251235961914 test acc: 60.87782287597656\n"
     ]
    },
    {
     "name": "stderr",
     "output_type": "stream",
     "text": [
      "\r",
      "Epoch:  60%|███████████████████████████████████████████▏                            | 12/20 [05:45<03:50, 28.77s/epoch]"
     ]
    },
    {
     "name": "stdout",
     "output_type": "stream",
     "text": [
      "Epoch 11:\n",
      "train loss: 0.7775306701660156\n",
      "train acc:  75.03517150878906 test acc: 61.40536117553711\n"
     ]
    },
    {
     "name": "stderr",
     "output_type": "stream",
     "text": [
      "\r",
      "Epoch:  65%|██████████████████████████████████████████████▊                         | 13/20 [06:14<03:21, 28.77s/epoch]"
     ]
    },
    {
     "name": "stdout",
     "output_type": "stream",
     "text": [
      "Epoch 12:\n",
      "train loss: 0.6842161417007446\n",
      "train acc:  77.82914733886719 test acc: 61.97509765625\n"
     ]
    },
    {
     "name": "stderr",
     "output_type": "stream",
     "text": [
      "\r",
      "Epoch:  70%|██████████████████████████████████████████████████▍                     | 14/20 [06:43<02:52, 28.81s/epoch]"
     ]
    },
    {
     "name": "stdout",
     "output_type": "stream",
     "text": [
      "Epoch 13:\n",
      "train loss: 1.056126356124878\n",
      "train acc:  80.22110748291016 test acc: 57.31166458129883\n"
     ]
    },
    {
     "name": "stderr",
     "output_type": "stream",
     "text": [
      "\r",
      "Epoch:  75%|██████████████████████████████████████████████████████                  | 15/20 [07:11<02:23, 28.64s/epoch]"
     ]
    },
    {
     "name": "stdout",
     "output_type": "stream",
     "text": [
      "Epoch 14:\n",
      "train loss: 0.36768674850463867\n",
      "train acc:  81.86934661865234 test acc: 70.22578430175781\n"
     ]
    },
    {
     "name": "stderr",
     "output_type": "stream",
     "text": [
      "\r",
      "Epoch:  80%|█████████████████████████████████████████████████████████▌              | 16/20 [07:39<01:54, 28.53s/epoch]"
     ]
    },
    {
     "name": "stdout",
     "output_type": "stream",
     "text": [
      "Epoch 15:\n",
      "train loss: 0.4129605293273926\n",
      "train acc:  85.32662963867188 test acc: 70.1413803100586\n"
     ]
    },
    {
     "name": "stderr",
     "output_type": "stream",
     "text": [
      "\r",
      "Epoch:  85%|█████████████████████████████████████████████████████████████▏          | 17/20 [08:08<01:25, 28.43s/epoch]"
     ]
    },
    {
     "name": "stdout",
     "output_type": "stream",
     "text": [
      "Epoch 16:\n",
      "train loss: 0.3128255307674408\n",
      "train acc:  86.05024719238281 test acc: 69.44503021240234\n"
     ]
    },
    {
     "name": "stderr",
     "output_type": "stream",
     "text": [
      "\r",
      "Epoch:  90%|████████████████████████████████████████████████████████████████▊       | 18/20 [08:36<00:56, 28.37s/epoch]"
     ]
    },
    {
     "name": "stdout",
     "output_type": "stream",
     "text": [
      "Epoch 17:\n",
      "train loss: 0.31793051958084106\n",
      "train acc:  86.15074920654297 test acc: 70.18357849121094\n"
     ]
    },
    {
     "name": "stderr",
     "output_type": "stream",
     "text": [
      "\r",
      "Epoch:  95%|████████████████████████████████████████████████████████████████████▍   | 19/20 [09:04<00:28, 28.34s/epoch]"
     ]
    },
    {
     "name": "stdout",
     "output_type": "stream",
     "text": [
      "Epoch 18:\n",
      "train loss: 0.4298906624317169\n",
      "train acc:  89.0050277709961 test acc: 67.8835220336914\n"
     ]
    },
    {
     "name": "stderr",
     "output_type": "stream",
     "text": [
      "Epoch: 100%|████████████████████████████████████████████████████████████████████████| 20/20 [09:33<00:00, 28.65s/epoch]"
     ]
    },
    {
     "name": "stdout",
     "output_type": "stream",
     "text": [
      "Epoch 19:\n",
      "train loss: 0.31102368235588074\n",
      "train acc:  88.60301208496094 test acc: 64.92930603027344\n"
     ]
    },
    {
     "name": "stderr",
     "output_type": "stream",
     "text": [
      "\n"
     ]
    }
   ],
   "source": [
    "vgg_drp = VGG16(hidden_features=512, nout=30, dropout=True).to(device)\n",
    "# print(vgg)\n",
    "\n",
    "vgg_drp_optimizer_sgd = optim.SGD(vgg_drp.parameters(), lr=vgg_learning_rate)\n",
    "\n",
    "vgg_drp.train()\n",
    "vgg_drp_loss_history = []\n",
    "vgg_drp_train_acc_history = []\n",
    "vgg_drp_test_acc_history = []\n",
    "for epoch in tqdm(range(vgg_nepochs),\n",
    "                  desc=f\"Epoch\",\n",
    "                  unit=\"epoch\",\n",
    "                  disable=False):\n",
    "#     vgg_loss_history.append\n",
    "    loss_history, accuracy = (train_epoch(model=vgg_drp, \n",
    "                                        train_data=fish_train_dataset, \n",
    "                                        LossFunction=loss_function, \n",
    "                                        optimizer=vgg_drp_optimizer_sgd))\n",
    "    vgg_drp_loss_history.append(loss_history)\n",
    "    vgg_drp_train_acc_history.append(accuracy)\n",
    "    vgg_drp_test_acc_history.append((evaluate(vgg_drp, fish_test_dataset) / len(fish_test_set)) * 100)\n",
    "\n",
    "    print(f\"Epoch {epoch}:\\ntrain loss: {vgg_drp_loss_history[-1][-1]}\"\n",
    "          f\"\\ntrain acc:  {float(vgg_drp_train_acc_history[-1])} test acc: {float(vgg_drp_test_acc_history[-1])}\")"
   ]
  },
  {
   "cell_type": "code",
   "execution_count": 40,
   "id": "aaa0dcc6",
   "metadata": {},
   "outputs": [
    {
     "name": "stdout",
     "output_type": "stream",
     "text": [
      "VGG16 Final accuracy = 76.32%\n",
      "VGG16 (Dropout) Final accuracy = 64.61%\n"
     ]
    },
    {
     "data": {
      "image/png": "[encoded data removed]",
      "text/plain": [
       "<Figure size 1080x720 with 4 Axes>"
      ]
     },
     "metadata": {
      "needs_background": "light"
     },
     "output_type": "display_data"
    }
   ],
   "source": [
    "vgg_fig, vgg_axs = plt.subplots(2, 2, figsize=(15, 10))\n",
    "vgg_axs[0,0].plot(list(map(lambda x: x[-1], vgg_loss_history)))\n",
    "vgg_axs[0,0].grid(axis='y')\n",
    "vgg_axs[0,0].set_title(\"Neural Network Loss: VGG16 + SGD\")    \n",
    "vgg_axs[0,0].set_xlabel(\"Number of Epochs\")\n",
    "vgg_axs[0,0].set_ylabel(\"Loss\")\n",
    "# ax1.show()\n",
    "\n",
    "vgg_axs[0,1].plot(list(map(lambda x: x[-1], vgg_drp_loss_history)))\n",
    "vgg_axs[0,1].grid(axis='y')\n",
    "vgg_axs[0,1].set_title(\"Neural Network Loss: VGG16 (Dropout) + SGD\")    \n",
    "vgg_axs[0,1].set_xlabel(\"Number of Epochs\")\n",
    "vgg_axs[0,1].set_ylabel(\"Loss\")\n",
    "# ax2.show()\n",
    "\n",
    "vgg_axs[1,0].plot(list(map(lambda x: float(x), vgg_train_acc_history)), label=\"Train\")\n",
    "vgg_axs[1,0].plot(list(map(lambda x: float(x), vgg_test_acc_history)), label=\"Test\")\n",
    "vgg_axs[1,0].grid(axis='y')\n",
    "vgg_axs[1,0].set_title(\"Neural Network Accuracy: VGG16 + SGD\")    \n",
    "vgg_axs[1,0].set_xlabel(\"Number of Epochs\")\n",
    "vgg_axs[1,0].set_ylabel(\"Loss\")\n",
    "\n",
    "vgg_axs[1,1].plot(list(map(lambda x: float(x), vgg_drp_train_acc_history)), label=\"Train\")\n",
    "vgg_axs[1,1].plot(list(map(lambda x: float(x), vgg_drp_test_acc_history)), label=\"Test\")\n",
    "vgg_axs[1,1].grid(axis='y')\n",
    "vgg_axs[1,1].set_title(\"Neural Network Accuracy: VGG16 (Dropout) + SGD\")    \n",
    "vgg_axs[1,1].set_xlabel(\"Number of Epochs\")\n",
    "vgg_axs[1,1].set_ylabel(\"Loss\")\n",
    "\n",
    "vgg_accuracy = evaluate(vgg, fish_test_dataset)\n",
    "print(f\"VGG16 Final accuracy = {vgg_accuracy / len(fish_test_set)*100:.2f}%\")\n",
    "vgg_drp_accuracy = evaluate(vgg_drp, fish_test_dataset)\n",
    "print(f\"VGG16 (Dropout) Final accuracy = {vgg_drp_accuracy / len(fish_test_set)*100:.2f}%\")"
   ]
  },
  {
   "cell_type": "markdown",
   "id": "0e7ceeb2",
   "metadata": {},
   "source": [
    "# Lenet Training"
   ]
  },
  {
   "cell_type": "code",
   "execution_count": 64,
   "id": "0e1a09d1",
   "metadata": {},
   "outputs": [],
   "source": [
    "lenet_learning_rate = 0.02\n",
    "lenet_nepochs = 20\n",
    "lenet_batch_size = 16\n",
    "\n",
    "lenet_fish_train_dataset = DataLoader(fish_train_set, batch_size=lenet_batch_size)\n",
    "lenet_fish_test_dataset = DataLoader(fish_test_set, batch_size=lenet_batch_size)\n",
    "\n",
    "loss_function = nn.CrossEntropyLoss()"
   ]
  },
  {
   "cell_type": "code",
   "execution_count": 59,
   "id": "6d5374e3",
   "metadata": {
    "scrolled": true
   },
   "outputs": [
    {
     "name": "stdout",
     "output_type": "stream",
     "text": [
      "Training Lenet + Adam optimizer...\n"
     ]
    },
    {
     "name": "stderr",
     "output_type": "stream",
     "text": [
      "Epoch:   5%|███▋                                                                     | 1/20 [00:28<08:54, 28.13s/epoch]"
     ]
    },
    {
     "name": "stdout",
     "output_type": "stream",
     "text": [
      "Epoch 0:\n",
      "train loss: 2.544456958770752\n",
      "train acc:  12.442211151123047 test acc: 18.82253646850586\n"
     ]
    },
    {
     "name": "stderr",
     "output_type": "stream",
     "text": [
      "\r",
      "Epoch:  10%|███████▎                                                                 | 2/20 [00:56<08:23, 27.99s/epoch]"
     ]
    },
    {
     "name": "stdout",
     "output_type": "stream",
     "text": [
      "Epoch 1:\n",
      "train loss: 2.0306358337402344\n",
      "train acc:  27.035175323486328 test acc: 32.87613296508789\n"
     ]
    },
    {
     "name": "stderr",
     "output_type": "stream",
     "text": [
      "\r",
      "Epoch:  15%|██████████▉                                                              | 3/20 [01:23<07:51, 27.75s/epoch]"
     ]
    },
    {
     "name": "stdout",
     "output_type": "stream",
     "text": [
      "Epoch 2:\n",
      "train loss: 1.5928200483322144\n",
      "train acc:  35.29648208618164 test acc: 39.945133209228516\n"
     ]
    },
    {
     "name": "stderr",
     "output_type": "stream",
     "text": [
      "\r",
      "Epoch:  20%|██████████████▌                                                          | 4/20 [01:50<07:22, 27.63s/epoch]"
     ]
    },
    {
     "name": "stdout",
     "output_type": "stream",
     "text": [
      "Epoch 3:\n",
      "train loss: 1.4513912200927734\n",
      "train acc:  42.5728645324707 test acc: 44.165435791015625\n"
     ]
    },
    {
     "name": "stderr",
     "output_type": "stream",
     "text": [
      "\r",
      "Epoch:  25%|██████████████████▎                                                      | 5/20 [02:18<06:53, 27.54s/epoch]"
     ]
    },
    {
     "name": "stdout",
     "output_type": "stream",
     "text": [
      "Epoch 4:\n",
      "train loss: 1.7015297412872314\n",
      "train acc:  47.27638244628906 test acc: 44.3553466796875\n"
     ]
    },
    {
     "name": "stderr",
     "output_type": "stream",
     "text": [
      "\r",
      "Epoch:  30%|█████████████████████▉                                                   | 6/20 [02:45<06:25, 27.51s/epoch]"
     ]
    },
    {
     "name": "stdout",
     "output_type": "stream",
     "text": [
      "Epoch 5:\n",
      "train loss: 1.2641470432281494\n",
      "train acc:  50.95477294921875 test acc: 49.03988265991211\n"
     ]
    },
    {
     "name": "stderr",
     "output_type": "stream",
     "text": [
      "\r",
      "Epoch:  35%|█████████████████████████▌                                               | 7/20 [03:13<05:57, 27.50s/epoch]"
     ]
    },
    {
     "name": "stdout",
     "output_type": "stream",
     "text": [
      "Epoch 6:\n",
      "train loss: 1.4061520099639893\n",
      "train acc:  53.32663345336914 test acc: 49.37750244140625\n"
     ]
    },
    {
     "name": "stderr",
     "output_type": "stream",
     "text": [
      "\r",
      "Epoch:  40%|█████████████████████████████▏                                           | 8/20 [03:40<05:30, 27.58s/epoch]"
     ]
    },
    {
     "name": "stdout",
     "output_type": "stream",
     "text": [
      "Epoch 7:\n",
      "train loss: 1.3240585327148438\n",
      "train acc:  56.38190841674805 test acc: 49.27199935913086\n"
     ]
    },
    {
     "name": "stderr",
     "output_type": "stream",
     "text": [
      "\r",
      "Epoch:  45%|████████████████████████████████▊                                        | 9/20 [04:08<05:03, 27.55s/epoch]"
     ]
    },
    {
     "name": "stdout",
     "output_type": "stream",
     "text": [
      "Epoch 8:\n",
      "train loss: 1.000498652458191\n",
      "train acc:  57.94974899291992 test acc: 50.432579040527344\n"
     ]
    },
    {
     "name": "stderr",
     "output_type": "stream",
     "text": [
      "\r",
      "Epoch:  50%|████████████████████████████████████                                    | 10/20 [04:35<04:35, 27.51s/epoch]"
     ]
    },
    {
     "name": "stdout",
     "output_type": "stream",
     "text": [
      "Epoch 9:\n",
      "train loss: 1.1836451292037964\n",
      "train acc:  60.160804748535156 test acc: 50.32707595825195\n"
     ]
    },
    {
     "name": "stderr",
     "output_type": "stream",
     "text": [
      "\r",
      "Epoch:  55%|███████████████████████████████████████▌                                | 11/20 [05:03<04:07, 27.49s/epoch]"
     ]
    },
    {
     "name": "stdout",
     "output_type": "stream",
     "text": [
      "Epoch 10:\n",
      "train loss: 0.89803546667099\n",
      "train acc:  63.055274963378906 test acc: 52.14180374145508\n"
     ]
    },
    {
     "name": "stderr",
     "output_type": "stream",
     "text": [
      "\r",
      "Epoch:  60%|███████████████████████████████████████████▏                            | 12/20 [05:30<03:39, 27.49s/epoch]"
     ]
    },
    {
     "name": "stdout",
     "output_type": "stream",
     "text": [
      "Epoch 11:\n",
      "train loss: 0.7816775441169739\n",
      "train acc:  63.55778884887695 test acc: 53.00696563720703\n"
     ]
    },
    {
     "name": "stderr",
     "output_type": "stream",
     "text": [
      "\r",
      "Epoch:  65%|██████████████████████████████████████████████▊                         | 13/20 [05:58<03:12, 27.51s/epoch]"
     ]
    },
    {
     "name": "stdout",
     "output_type": "stream",
     "text": [
      "Epoch 12:\n",
      "train loss: 0.63227379322052\n",
      "train acc:  65.12562561035156 test acc: 51.550960540771484\n"
     ]
    },
    {
     "name": "stderr",
     "output_type": "stream",
     "text": [
      "\r",
      "Epoch:  70%|██████████████████████████████████████████████████▍                     | 14/20 [06:25<02:45, 27.50s/epoch]"
     ]
    },
    {
     "name": "stdout",
     "output_type": "stream",
     "text": [
      "Epoch 13:\n",
      "train loss: 0.7228593826293945\n",
      "train acc:  66.07035064697266 test acc: 52.247310638427734\n"
     ]
    },
    {
     "name": "stderr",
     "output_type": "stream",
     "text": [
      "\r",
      "Epoch:  75%|██████████████████████████████████████████████████████                  | 15/20 [06:53<02:17, 27.58s/epoch]"
     ]
    },
    {
     "name": "stdout",
     "output_type": "stream",
     "text": [
      "Epoch 14:\n",
      "train loss: 0.8648644685745239\n",
      "train acc:  67.47738647460938 test acc: 54.27305221557617\n"
     ]
    },
    {
     "name": "stderr",
     "output_type": "stream",
     "text": [
      "\r",
      "Epoch:  80%|█████████████████████████████████████████████████████████▌              | 16/20 [07:21<01:50, 27.69s/epoch]"
     ]
    },
    {
     "name": "stdout",
     "output_type": "stream",
     "text": [
      "Epoch 15:\n",
      "train loss: 0.9639006853103638\n",
      "train acc:  68.44220733642578 test acc: 54.08313751220703\n"
     ]
    },
    {
     "name": "stderr",
     "output_type": "stream",
     "text": [
      "\r",
      "Epoch:  85%|█████████████████████████████████████████████████████████████▏          | 17/20 [07:48<01:22, 27.60s/epoch]"
     ]
    },
    {
     "name": "stdout",
     "output_type": "stream",
     "text": [
      "Epoch 16:\n",
      "train loss: 0.8258293271064758\n",
      "train acc:  69.12562561035156 test acc: 55.05380630493164\n"
     ]
    },
    {
     "name": "stderr",
     "output_type": "stream",
     "text": [
      "\r",
      "Epoch:  90%|████████████████████████████████████████████████████████████████▊       | 18/20 [08:16<00:54, 27.48s/epoch]"
     ]
    },
    {
     "name": "stdout",
     "output_type": "stream",
     "text": [
      "Epoch 17:\n",
      "train loss: 0.5913193821907043\n",
      "train acc:  71.03517150878906 test acc: 53.9354248046875\n"
     ]
    },
    {
     "name": "stderr",
     "output_type": "stream",
     "text": [
      "\r",
      "Epoch:  95%|████████████████████████████████████████████████████████████████████▍   | 19/20 [08:43<00:27, 27.38s/epoch]"
     ]
    },
    {
     "name": "stdout",
     "output_type": "stream",
     "text": [
      "Epoch 18:\n",
      "train loss: 0.7652680277824402\n",
      "train acc:  71.03517150878906 test acc: 55.9400749206543\n"
     ]
    },
    {
     "name": "stderr",
     "output_type": "stream",
     "text": [
      "Epoch: 100%|████████████████████████████████████████████████████████████████████████| 20/20 [09:10<00:00, 27.54s/epoch]"
     ]
    },
    {
     "name": "stdout",
     "output_type": "stream",
     "text": [
      "Epoch 19:\n",
      "train loss: 0.48530450463294983\n",
      "train acc:  72.30150604248047 test acc: 54.673980712890625\n"
     ]
    },
    {
     "name": "stderr",
     "output_type": "stream",
     "text": [
      "\n"
     ]
    }
   ],
   "source": [
    "lenet_1 = LeNet(num_classes=30).to(device)\n",
    "lenet_optimizer_adam = optim.Adam(lenet_1.parameters(), lr=lenet_learning_rate)\n",
    "\n",
    "print(\"Training Lenet + Adam optimizer...\")\n",
    "# lenet_1 = lenet_1.to(device)\n",
    "lenet_1.train()\n",
    "lenet_loss_history_1 = []\n",
    "lenet_train_acc_history_1 = []\n",
    "lenet_test_acc_history_1 = []\n",
    "for epoch in tqdm(range(lenet_nepochs),\n",
    "                  desc=f\"Epoch\",\n",
    "                  unit=\"epoch\",\n",
    "                  disable=False):\n",
    "    loss_history, accuracy = (train_epoch(model=lenet_1, \n",
    "                                          train_data=lenet_fish_train_dataset, \n",
    "                                          LossFunction=loss_function, \n",
    "                                          optimizer=lenet_optimizer_adam))\n",
    "    lenet_loss_history_1.append(loss_history)\n",
    "    lenet_train_acc_history_1.append(accuracy)\n",
    "    lenet_test_acc_history_1.append((evaluate(lenet_1, lenet_fish_test_dataset) / len(fish_test_set)) * 100)\n",
    "\n",
    "    print(f\"Epoch {epoch}:\\ntrain loss: {lenet_loss_history_1[-1][-1]}\"\n",
    "          f\"\\ntrain acc:  {float(lenet_train_acc_history_1[-1])} test acc: {float(lenet_test_acc_history_1[-1])}\")"
   ]
  },
  {
   "cell_type": "code",
   "execution_count": 65,
   "id": "c1d9af71",
   "metadata": {
    "scrolled": true
   },
   "outputs": [
    {
     "name": "stdout",
     "output_type": "stream",
     "text": [
      "Training Lenet + SGD optimizer...\n"
     ]
    },
    {
     "name": "stderr",
     "output_type": "stream",
     "text": [
      "Epoch:   5%|███▋                                                                     | 1/20 [00:27<08:50, 27.91s/epoch]"
     ]
    },
    {
     "name": "stdout",
     "output_type": "stream",
     "text": [
      "Epoch 0:\n",
      "train loss: 3.239281177520752\n",
      "train acc:  4.341708660125732 test acc: 7.069002151489258\n"
     ]
    },
    {
     "name": "stderr",
     "output_type": "stream",
     "text": [
      "\r",
      "Epoch:  10%|███████▎                                                                 | 2/20 [00:55<08:22, 27.92s/epoch]"
     ]
    },
    {
     "name": "stdout",
     "output_type": "stream",
     "text": [
      "Epoch 1:\n",
      "train loss: 2.703260660171509\n",
      "train acc:  12.16080379486084 test acc: 17.197721481323242\n"
     ]
    },
    {
     "name": "stderr",
     "output_type": "stream",
     "text": [
      "\r",
      "Epoch:  15%|██████████▉                                                              | 3/20 [01:23<07:50, 27.66s/epoch]"
     ]
    },
    {
     "name": "stdout",
     "output_type": "stream",
     "text": [
      "Epoch 2:\n",
      "train loss: 2.3288893699645996\n",
      "train acc:  19.135677337646484 test acc: 23.57037353515625\n"
     ]
    },
    {
     "name": "stderr",
     "output_type": "stream",
     "text": [
      "\r",
      "Epoch:  20%|██████████████▌                                                          | 4/20 [01:50<07:22, 27.68s/epoch]"
     ]
    },
    {
     "name": "stdout",
     "output_type": "stream",
     "text": [
      "Epoch 3:\n",
      "train loss: 2.141772508621216\n",
      "train acc:  26.33165740966797 test acc: 28.381515502929688\n"
     ]
    },
    {
     "name": "stderr",
     "output_type": "stream",
     "text": [
      "\r",
      "Epoch:  25%|██████████████████▎                                                      | 5/20 [02:18<06:52, 27.53s/epoch]"
     ]
    },
    {
     "name": "stdout",
     "output_type": "stream",
     "text": [
      "Epoch 4:\n",
      "train loss: 2.2077724933624268\n",
      "train acc:  31.63819122314453 test acc: 32.34859848022461\n"
     ]
    },
    {
     "name": "stderr",
     "output_type": "stream",
     "text": [
      "\r",
      "Epoch:  30%|█████████████████████▉                                                   | 6/20 [02:45<06:24, 27.46s/epoch]"
     ]
    },
    {
     "name": "stdout",
     "output_type": "stream",
     "text": [
      "Epoch 5:\n",
      "train loss: 2.052351951599121\n",
      "train acc:  35.97990036010742 test acc: 36.14686584472656\n"
     ]
    },
    {
     "name": "stderr",
     "output_type": "stream",
     "text": [
      "\r",
      "Epoch:  35%|█████████████████████████▌                                               | 7/20 [03:12<05:56, 27.40s/epoch]"
     ]
    },
    {
     "name": "stdout",
     "output_type": "stream",
     "text": [
      "Epoch 6:\n",
      "train loss: 1.8221180438995361\n",
      "train acc:  39.43718719482422 test acc: 38.32032012939453\n"
     ]
    },
    {
     "name": "stderr",
     "output_type": "stream",
     "text": [
      "\r",
      "Epoch:  40%|█████████████████████████████▏                                           | 8/20 [03:40<05:28, 27.37s/epoch]"
     ]
    },
    {
     "name": "stdout",
     "output_type": "stream",
     "text": [
      "Epoch 7:\n",
      "train loss: 1.722740888595581\n",
      "train acc:  42.89447021484375 test acc: 42.498416900634766\n"
     ]
    },
    {
     "name": "stderr",
     "output_type": "stream",
     "text": [
      "\r",
      "Epoch:  45%|████████████████████████████████▊                                        | 9/20 [04:08<05:03, 27.59s/epoch]"
     ]
    },
    {
     "name": "stdout",
     "output_type": "stream",
     "text": [
      "Epoch 8:\n",
      "train loss: 1.533639669418335\n",
      "train acc:  45.82914352416992 test acc: 44.31314468383789\n"
     ]
    },
    {
     "name": "stderr",
     "output_type": "stream",
     "text": [
      "\r",
      "Epoch:  50%|████████████████████████████████████                                    | 10/20 [04:35<04:36, 27.62s/epoch]"
     ]
    },
    {
     "name": "stdout",
     "output_type": "stream",
     "text": [
      "Epoch 9:\n",
      "train loss: 1.3409837484359741\n",
      "train acc:  48.4824104309082 test acc: 45.748050689697266\n"
     ]
    },
    {
     "name": "stderr",
     "output_type": "stream",
     "text": [
      "\r",
      "Epoch:  55%|███████████████████████████████████████▌                                | 11/20 [05:03<04:08, 27.64s/epoch]"
     ]
    },
    {
     "name": "stdout",
     "output_type": "stream",
     "text": [
      "Epoch 10:\n",
      "train loss: 1.139137625694275\n",
      "train acc:  51.23617935180664 test acc: 47.288455963134766\n"
     ]
    },
    {
     "name": "stderr",
     "output_type": "stream",
     "text": [
      "\r",
      "Epoch:  60%|███████████████████████████████████████████▏                            | 12/20 [05:30<03:40, 27.57s/epoch]"
     ]
    },
    {
     "name": "stdout",
     "output_type": "stream",
     "text": [
      "Epoch 11:\n",
      "train loss: 1.0990087985992432\n",
      "train acc:  53.52763748168945 test acc: 47.562774658203125\n"
     ]
    },
    {
     "name": "stderr",
     "output_type": "stream",
     "text": [
      "\r",
      "Epoch:  65%|██████████████████████████████████████████████▊                         | 13/20 [05:58<03:13, 27.61s/epoch]"
     ]
    },
    {
     "name": "stdout",
     "output_type": "stream",
     "text": [
      "Epoch 12:\n",
      "train loss: 1.015456199645996\n",
      "train acc:  56.70351791381836 test acc: 50.896812438964844\n"
     ]
    },
    {
     "name": "stderr",
     "output_type": "stream",
     "text": [
      "\r",
      "Epoch:  70%|██████████████████████████████████████████████████▍                     | 14/20 [06:26<02:46, 27.81s/epoch]"
     ]
    },
    {
     "name": "stdout",
     "output_type": "stream",
     "text": [
      "Epoch 13:\n",
      "train loss: 0.8751989603042603\n",
      "train acc:  59.778892517089844 test acc: 51.44545364379883\n"
     ]
    },
    {
     "name": "stderr",
     "output_type": "stream",
     "text": [
      "\r",
      "Epoch:  75%|██████████████████████████████████████████████████████                  | 15/20 [06:54<02:19, 27.88s/epoch]"
     ]
    },
    {
     "name": "stdout",
     "output_type": "stream",
     "text": [
      "Epoch 14:\n",
      "train loss: 0.799528181552887\n",
      "train acc:  61.809043884277344 test acc: 51.95188522338867\n"
     ]
    },
    {
     "name": "stderr",
     "output_type": "stream",
     "text": [
      "\r",
      "Epoch:  80%|█████████████████████████████████████████████████████████▌              | 16/20 [07:22<01:51, 27.91s/epoch]"
     ]
    },
    {
     "name": "stdout",
     "output_type": "stream",
     "text": [
      "Epoch 15:\n",
      "train loss: 0.5891714096069336\n",
      "train acc:  63.51758575439453 test acc: 52.120697021484375\n"
     ]
    },
    {
     "name": "stderr",
     "output_type": "stream",
     "text": [
      "\r",
      "Epoch:  85%|█████████████████████████████████████████████████████████████▏          | 17/20 [07:50<01:23, 27.89s/epoch]"
     ]
    },
    {
     "name": "stdout",
     "output_type": "stream",
     "text": [
      "Epoch 16:\n",
      "train loss: 0.5735527873039246\n",
      "train acc:  65.16582489013672 test acc: 54.441864013671875\n"
     ]
    },
    {
     "name": "stderr",
     "output_type": "stream",
     "text": [
      "\r",
      "Epoch:  90%|████████████████████████████████████████████████████████████████▊       | 18/20 [08:18<00:55, 27.91s/epoch]"
     ]
    },
    {
     "name": "stdout",
     "output_type": "stream",
     "text": [
      "Epoch 17:\n",
      "train loss: 0.594608724117279\n",
      "train acc:  67.21607971191406 test acc: 54.10424041748047\n"
     ]
    },
    {
     "name": "stderr",
     "output_type": "stream",
     "text": [
      "\r",
      "Epoch:  95%|████████████████████████████████████████████████████████████████████▍   | 19/20 [08:46<00:27, 27.93s/epoch]"
     ]
    },
    {
     "name": "stdout",
     "output_type": "stream",
     "text": [
      "Epoch 18:\n",
      "train loss: 0.414633572101593\n",
      "train acc:  68.8241195678711 test acc: 55.792362213134766\n"
     ]
    },
    {
     "name": "stderr",
     "output_type": "stream",
     "text": [
      "Epoch: 100%|████████████████████████████████████████████████████████████████████████| 20/20 [09:14<00:00, 27.73s/epoch]"
     ]
    },
    {
     "name": "stdout",
     "output_type": "stream",
     "text": [
      "Epoch 19:\n",
      "train loss: 0.5177825689315796\n",
      "train acc:  70.29145812988281 test acc: 53.70331573486328\n"
     ]
    },
    {
     "name": "stderr",
     "output_type": "stream",
     "text": [
      "\n"
     ]
    }
   ],
   "source": [
    "lenet_2 = LeNet(num_classes=30).to(device)\n",
    "lenet_optimizer_sgd = optim.SGD(lenet_2.parameters(), lr=lenet_learning_rate)\n",
    "\n",
    "print(\"Training Lenet + SGD optimizer...\")\n",
    "# lenet_2 = lenet_2.to(device)\n",
    "lenet_2.train()\n",
    "lenet_loss_history_2 = []\n",
    "lenet_train_acc_history_2 = []\n",
    "lenet_test_acc_history_2 = []\n",
    "for epoch in tqdm(range(lenet_nepochs),\n",
    "                  desc=f\"Epoch\",\n",
    "                  unit=\"epoch\",\n",
    "                  disable=False):\n",
    "    loss_history, accuracy = (train_epoch(model=lenet_2, \n",
    "                                          train_data=lenet_fish_train_dataset, \n",
    "                                          LossFunction=loss_function, \n",
    "                                          optimizer=lenet_optimizer_sgd))\n",
    "    lenet_loss_history_2.append(loss_history)\n",
    "    lenet_train_acc_history_2.append(accuracy)\n",
    "    lenet_test_acc_history_2.append((evaluate(lenet_2, lenet_fish_test_dataset) / len(fish_test_set)) * 100)\n",
    "\n",
    "    print(f\"Epoch {epoch}:\\ntrain loss: {lenet_loss_history_2[-1][-1]}\"\n",
    "          f\"\\ntrain acc:  {float(lenet_train_acc_history_2[-1])} test acc: {float(lenet_test_acc_history_2[-1])}\")"
   ]
  },
  {
   "cell_type": "code",
   "execution_count": 66,
   "id": "293a0e56",
   "metadata": {},
   "outputs": [
    {
     "name": "stdout",
     "output_type": "stream",
     "text": [
      "Lenet + Adam Final accuracy = 54.74%\n",
      "Lenet + SGD Final accuracy = 53.58%\n"
     ]
    },
    {
     "data": {
      "image/png": "[encoded data removed]",
      "text/plain": [
       "<Figure size 1080x720 with 4 Axes>"
      ]
     },
     "metadata": {
      "needs_background": "light"
     },
     "output_type": "display_data"
    }
   ],
   "source": [
    "lenet_fig, lenet_axs = plt.subplots(2, 2, figsize=(15, 10))\n",
    "lenet_axs[0,0].plot(list(map(lambda x: x[-1], lenet_loss_history_1)))\n",
    "lenet_axs[0,0].grid(axis='y')\n",
    "lenet_axs[0,0].set_title(\"Neural Network Loss: Lenet + Adam\")    \n",
    "lenet_axs[0,0].set_xlabel(\"Number of Epochs\")\n",
    "lenet_axs[0,0].set_ylabel(\"Loss\")\n",
    "# ax1.show()\n",
    "\n",
    "lenet_axs[0,1].plot(list(map(lambda x: x[-1], lenet_loss_history_2)))\n",
    "lenet_axs[0,1].grid(axis='y')\n",
    "lenet_axs[0,1].set_title(\"Neural Network Loss: Lenet + SGD\")    \n",
    "lenet_axs[0,1].set_xlabel(\"Number of Epochs\")\n",
    "lenet_axs[0,1].set_ylabel(\"Loss\")\n",
    "# ax2.show()\n",
    "\n",
    "lenet_axs[1,0].plot(list(map(lambda x: float(x), lenet_train_acc_history_1)), label=\"Train\")\n",
    "lenet_axs[1,0].plot(list(map(lambda x: float(x), lenet_test_acc_history_1)), label=\"Test\")\n",
    "lenet_axs[1,0].grid(axis='y')\n",
    "lenet_axs[1,0].set_title(\"Neural Network Accuracy: Lenet + Adam\")    \n",
    "lenet_axs[1,0].set_xlabel(\"Number of Epochs\")\n",
    "lenet_axs[1,0].set_ylabel(\"Loss\")\n",
    "\n",
    "lenet_axs[1,1].plot(list(map(lambda x: float(x), lenet_train_acc_history_2)), label=\"Train\")\n",
    "lenet_axs[1,1].plot(list(map(lambda x: float(x), lenet_test_acc_history_2)), label=\"Test\")\n",
    "lenet_axs[1,1].grid(axis='y')\n",
    "lenet_axs[1,1].set_title(\"Neural Network Accuracy: Lenet + SGD\")    \n",
    "lenet_axs[1,1].set_xlabel(\"Number of Epochs\")\n",
    "lenet_axs[1,1].set_ylabel(\"Loss\")\n",
    "\n",
    "lenet_accuracy_1 = evaluate(lenet_1, fish_test_dataset)\n",
    "print(f\"Lenet + Adam Final accuracy = {lenet_accuracy_1 / len(fish_test_set)*100:.2f}%\")\n",
    "lenet_accuracy_2 = evaluate(lenet_2, fish_test_dataset)\n",
    "print(f\"Lenet + SGD Final accuracy = {lenet_accuracy_2 / len(fish_test_set)*100:.2f}%\")"
   ]
  },
  {
   "cell_type": "code",
   "execution_count": null,
   "id": "ac617be8",
   "metadata": {},
   "outputs": [],
   "source": []
  }
 ],
 "metadata": {
  "kernelspec": {
   "display_name": "Python 3 (ipykernel)",
   "language": "python",
   "name": "python3"
  },
  "language_info": {
   "codemirror_mode": {
    "name": "ipython",
    "version": 3
   },
   "file_extension": ".py",
   "mimetype": "text/x-python",
   "name": "python",
   "nbconvert_exporter": "python",
   "pygments_lexer": "ipython3",
   "version": "3.8.12"
  }
 },
 "nbformat": 4,
 "nbformat_minor": 5
}
