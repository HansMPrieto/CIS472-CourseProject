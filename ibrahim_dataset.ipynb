{
 "cells": [
  {
   "cell_type": "markdown",
   "id": "3d5f2a79",
   "metadata": {},
   "source": [
    "<span style=\"color:black;font-size:35px\">**TODO - header**</span>"
   ]
  },
  {
   "cell_type": "code",
   "execution_count": 34,
   "id": "f21c80f1",
   "metadata": {},
   "outputs": [],
   "source": [
    "import torch\n",
    "import torch.nn as nn\n",
    "from torch import optim\n",
    "from torch.utils.data import Dataset\n",
    "from torch.utils.data import DataLoader\n",
    "from torchvision import transforms as T\n",
    "import matplotlib.pyplot as plt\n",
    "import os\n",
    "import random\n",
    "from PIL import Image\n",
    "from tqdm import tqdm\n",
    "import sys\n",
    "sys.path.append(r'..\\models')\n",
    "from vgg import VGG16\n",
    "sys.path.pop()\n",
    "sys.path.append(r'..\\training')\n",
    "from training import train_epoch\n",
    "# from training import evaluate\n",
    "sys.path.pop()\n",
    "\n",
    "device = torch.device(\"cuda\" if torch.cuda.is_available() else \"cpu\")\n",
    "\n",
    "# FILEPATH = r\"C:\\Users\\Evant\\Documents\\intel-image-classification\"\n",
    "FILEPATH = r\"..\\..\\FISH0006 fishclassifierfinal\\intel-image-classification\""
   ]
  },
  {
   "cell_type": "code",
   "execution_count": 35,
   "id": "44cf7bd0",
   "metadata": {},
   "outputs": [],
   "source": [
    "def evaluate(model, test_data):\n",
    "    model.eval()\n",
    "    accuracy = 0\n",
    "    with torch.no_grad():\n",
    "        for (data, label) in test_data:\n",
    "#             print(data)\n",
    "            data = data.to(device)\n",
    "#             label = torch.tensor(label)\n",
    "#             print(label)\n",
    "            label = label.to(device)\n",
    "            out = model(data)\n",
    "            answers = out.max(dim=1)[1]\n",
    "#             answers = torch.max(out, dim=1)\n",
    "#             print(answers)\n",
    "            accuracy += (answers == label).sum()\n",
    "    return accuracy"
   ]
  },
  {
   "cell_type": "code",
   "execution_count": 36,
   "id": "1b0e869a",
   "metadata": {},
   "outputs": [],
   "source": [
    "# not really useful at the moment\n",
    "class My_Dataset(Dataset):\n",
    "    def __init__(self, data_path, transform=None):\n",
    "        raise NotImplementedError\n",
    "        \n",
    "    def __len__(self):\n",
    "        raise NotImplementedError\n",
    "        \n",
    "    def __getitem__(self, idx):\n",
    "        raise NotImplementedError"
   ]
  },
  {
   "cell_type": "code",
   "execution_count": 37,
   "id": "70048f3b",
   "metadata": {},
   "outputs": [],
   "source": [
    "class FishDataset(Dataset):\n",
    "    def __init__(self, data_path, train=False, shuffle=False, transform=None):\n",
    "        self.train = train\n",
    "        self.transform = transform\n",
    "        self.data_path = data_path\n",
    "        datapoints = {}\n",
    "        i = 0\n",
    "        if train:\n",
    "            for label in os.listdir(fr\"{data_path}\\seg_train\\seg_train\"):\n",
    "                for image in os.listdir(fr\"{data_path}\\seg_train\\seg_train\\{label}\"):\n",
    "                    datapoints[image] = i\n",
    "                i += 1\n",
    "        else:\n",
    "            for label in os.listdir(fr\"{data_path}\\seg_test\\seg_test\"):\n",
    "                for image in os.listdir(fr\"{data_path}\\seg_test\\seg_test\\{label}\"):\n",
    "                    datapoints[image] = i\n",
    "                i += 1\n",
    "        self._num_labels = i\n",
    "        if shuffle:\n",
    "            k = list(datapoints.keys())\n",
    "            random.shuffle(k)\n",
    "            l = [(key, datapoints[key]) for key in k]\n",
    "            datapoints = dict(l)\n",
    "        self.labels = list(datapoints.values())\n",
    "        self.images = list(datapoints.keys())\n",
    "        \n",
    "    def __len__(self):\n",
    "        return len(self.images)\n",
    "    \n",
    "    def __getitem__(self, idx):\n",
    "        folders = os.listdir(fr\"{self.data_path}\\seg_train\\seg_train\")\n",
    "        label = self.labels[idx]\n",
    "        if self.train:\n",
    "            img = Image.open(fr\"{self.data_path}\\seg_train\\seg_train\\{folders[label]}\\{self.images[idx]}\")\n",
    "        else:\n",
    "            img = Image.open(fr\"{self.data_path}\\seg_test\\seg_test\\{folders[label]}\\{self.images[idx]}\")\n",
    "        # this data set contains a number of png files with an alpha channel\n",
    "        img = img.convert(\"RGB\")\n",
    "        if self.transform is not None:\n",
    "            img = self.transform(img)\n",
    "#         if not img.shape[0] == 3:\n",
    "#             print(img.shape)\n",
    "#             img = img.convert(\"RGB\")\n",
    "#             img.cv2.cvtColor(img, cv2.COLOR_BGRA)\n",
    "        return img, label    \n",
    "\n",
    "    def num_labels(self):\n",
    "        return self._num_labels"
   ]
  },
  {
   "cell_type": "code",
   "execution_count": 38,
   "id": "297ade17",
   "metadata": {},
   "outputs": [],
   "source": [
    "fish_transform = T.Compose([T.Resize(size=(32,32)), \n",
    "                            T.RandomHorizontalFlip(), \n",
    "                            T.ToTensor(), \n",
    "                            T.Normalize(mean=[0.485, 0.456, 0.406], \n",
    "                                        std=[0.229, 0.224, 0.225])])\n",
    "\n",
    "fish_train_set = FishDataset(FILEPATH, \n",
    "                             train=True, \n",
    "                             shuffle=True, \n",
    "                             transform=fish_transform)\n",
    "fish_test_set = FishDataset(FILEPATH, \n",
    "                            train=False, \n",
    "                            shuffle=True, \n",
    "                            transform=fish_transform)"
   ]
  },
  {
   "cell_type": "code",
   "execution_count": 39,
   "id": "6484aee4",
   "metadata": {
    "scrolled": true
   },
   "outputs": [
    {
     "name": "stdout",
     "output_type": "stream",
     "text": [
      "Type: <class 'list'>\n",
      "Length: 2\n",
      "More Types: <class 'torch.Tensor'>, <class 'torch.Tensor'>\n",
      "Image Shapes: torch.Size([3, 32, 32]), torch.Size([3, 32, 32])\n",
      "Labels: tensor([24,  4])\n",
      "\n"
     ]
    },
    {
     "data": {
      "text/plain": [
       "<matplotlib.image.AxesImage at 0x2bd94befe80>"
      ]
     },
     "execution_count": 39,
     "metadata": {},
     "output_type": "execute_result"
    },
    {
     "data": {
      "image/png": "[encoded data removed]",
      "text/plain": [
       "<Figure size 432x288 with 2 Axes>"
      ]
     },
     "metadata": {
      "needs_background": "light"
     },
     "output_type": "display_data"
    }
   ],
   "source": [
    "fish_investigation_dataset = DataLoader(fish_train_set, batch_size=2)\n",
    "fish_data = iter(fish_investigation_dataset)\n",
    "fish_single_point = next(fish_data)\n",
    "print(f\"\"\"Type: {type(fish_single_point)}\n",
    "Length: {len(fish_single_point)}\n",
    "More Types: {type(fish_single_point[0])}, {type(fish_single_point[1])}\n",
    "Image Shapes: {fish_single_point[0][0].shape}, {fish_single_point[0][1].shape}\n",
    "Labels: {fish_single_point[1]}\n",
    "\"\"\")\n",
    "\n",
    "ToPIL = T.ToPILImage()\n",
    "img0 = ToPIL(fish_single_point[0][0])\n",
    "img1 = ToPIL(fish_single_point[0][1])\n",
    "fi_1, axs_1 = plt.subplots(1,2)\n",
    "axs_1[0].imshow(img0)\n",
    "axs_1[1].imshow(img1)"
   ]
  },
  {
   "cell_type": "markdown",
   "id": "74f3ecea",
   "metadata": {},
   "source": [
    "<span style=\"color:black;font-size:35px\">**Training**</span>"
   ]
  },
  {
   "cell_type": "code",
   "execution_count": 14,
   "id": "290255b6",
   "metadata": {},
   "outputs": [
    {
     "name": "stderr",
     "output_type": "stream",
     "text": [
      "Epoch:   5%|███▋                                                                     | 1/20 [00:15<04:56, 15.61s/epoch]"
     ]
    },
    {
     "name": "stdout",
     "output_type": "stream",
     "text": [
      "Epoch 0: loss: 2.102443218231201\n"
     ]
    },
    {
     "name": "stderr",
     "output_type": "stream",
     "text": [
      "\r",
      "Epoch:  10%|███████▎                                                                 | 2/20 [00:31<04:43, 15.78s/epoch]"
     ]
    },
    {
     "name": "stdout",
     "output_type": "stream",
     "text": [
      "Epoch 1: loss: 1.6331511735916138\n"
     ]
    },
    {
     "name": "stderr",
     "output_type": "stream",
     "text": [
      "\r",
      "Epoch:  15%|██████████▉                                                              | 3/20 [00:47<04:27, 15.75s/epoch]"
     ]
    },
    {
     "name": "stdout",
     "output_type": "stream",
     "text": [
      "Epoch 2: loss: 1.3002525568008423\n"
     ]
    },
    {
     "name": "stderr",
     "output_type": "stream",
     "text": [
      "\r",
      "Epoch:  20%|██████████████▌                                                          | 4/20 [01:02<04:10, 15.69s/epoch]"
     ]
    },
    {
     "name": "stdout",
     "output_type": "stream",
     "text": [
      "Epoch 3: loss: 1.2533286809921265\n"
     ]
    },
    {
     "name": "stderr",
     "output_type": "stream",
     "text": [
      "\r",
      "Epoch:  25%|██████████████████▎                                                      | 5/20 [01:18<03:54, 15.65s/epoch]"
     ]
    },
    {
     "name": "stdout",
     "output_type": "stream",
     "text": [
      "Epoch 4: loss: 0.6306467056274414\n"
     ]
    },
    {
     "name": "stderr",
     "output_type": "stream",
     "text": [
      "\r",
      "Epoch:  30%|█████████████████████▉                                                   | 6/20 [01:34<03:39, 15.70s/epoch]"
     ]
    },
    {
     "name": "stdout",
     "output_type": "stream",
     "text": [
      "Epoch 5: loss: 0.6514407396316528\n"
     ]
    },
    {
     "name": "stderr",
     "output_type": "stream",
     "text": [
      "\r",
      "Epoch:  35%|█████████████████████████▌                                               | 7/20 [01:49<03:23, 15.67s/epoch]"
     ]
    },
    {
     "name": "stdout",
     "output_type": "stream",
     "text": [
      "Epoch 6: loss: 0.6316776871681213\n"
     ]
    },
    {
     "name": "stderr",
     "output_type": "stream",
     "text": [
      "\r",
      "Epoch:  40%|█████████████████████████████▏                                           | 8/20 [02:05<03:07, 15.63s/epoch]"
     ]
    },
    {
     "name": "stdout",
     "output_type": "stream",
     "text": [
      "Epoch 7: loss: 0.3745250701904297\n"
     ]
    },
    {
     "name": "stderr",
     "output_type": "stream",
     "text": [
      "\r",
      "Epoch:  45%|████████████████████████████████▊                                        | 9/20 [02:20<02:51, 15.60s/epoch]"
     ]
    },
    {
     "name": "stdout",
     "output_type": "stream",
     "text": [
      "Epoch 8: loss: 0.2582033574581146\n"
     ]
    },
    {
     "name": "stderr",
     "output_type": "stream",
     "text": [
      "\r",
      "Epoch:  50%|████████████████████████████████████                                    | 10/20 [02:36<02:35, 15.57s/epoch]"
     ]
    },
    {
     "name": "stdout",
     "output_type": "stream",
     "text": [
      "Epoch 9: loss: 0.12340288609266281\n"
     ]
    },
    {
     "name": "stderr",
     "output_type": "stream",
     "text": [
      "\r",
      "Epoch:  55%|███████████████████████████████████████▌                                | 11/20 [02:51<02:20, 15.56s/epoch]"
     ]
    },
    {
     "name": "stdout",
     "output_type": "stream",
     "text": [
      "Epoch 10: loss: 0.16639477014541626\n"
     ]
    },
    {
     "name": "stderr",
     "output_type": "stream",
     "text": [
      "\r",
      "Epoch:  60%|███████████████████████████████████████████▏                            | 12/20 [03:07<02:04, 15.57s/epoch]"
     ]
    },
    {
     "name": "stdout",
     "output_type": "stream",
     "text": [
      "Epoch 11: loss: 0.20682722330093384\n"
     ]
    },
    {
     "name": "stderr",
     "output_type": "stream",
     "text": [
      "\r",
      "Epoch:  65%|██████████████████████████████████████████████▊                         | 13/20 [03:22<01:48, 15.54s/epoch]"
     ]
    },
    {
     "name": "stdout",
     "output_type": "stream",
     "text": [
      "Epoch 12: loss: 0.22152511775493622\n"
     ]
    },
    {
     "name": "stderr",
     "output_type": "stream",
     "text": [
      "\r",
      "Epoch:  70%|██████████████████████████████████████████████████▍                     | 14/20 [03:38<01:33, 15.53s/epoch]"
     ]
    },
    {
     "name": "stdout",
     "output_type": "stream",
     "text": [
      "Epoch 13: loss: 0.26112163066864014\n"
     ]
    },
    {
     "name": "stderr",
     "output_type": "stream",
     "text": [
      "\r",
      "Epoch:  75%|██████████████████████████████████████████████████████                  | 15/20 [03:53<01:17, 15.52s/epoch]"
     ]
    },
    {
     "name": "stdout",
     "output_type": "stream",
     "text": [
      "Epoch 14: loss: 0.1304589807987213\n"
     ]
    },
    {
     "name": "stderr",
     "output_type": "stream",
     "text": [
      "\r",
      "Epoch:  80%|█████████████████████████████████████████████████████████▌              | 16/20 [04:09<01:02, 15.53s/epoch]"
     ]
    },
    {
     "name": "stdout",
     "output_type": "stream",
     "text": [
      "Epoch 15: loss: 0.018367238342761993\n"
     ]
    },
    {
     "name": "stderr",
     "output_type": "stream",
     "text": [
      "\r",
      "Epoch:  85%|█████████████████████████████████████████████████████████████▏          | 17/20 [04:25<00:46, 15.54s/epoch]"
     ]
    },
    {
     "name": "stdout",
     "output_type": "stream",
     "text": [
      "Epoch 16: loss: 0.03290572389960289\n"
     ]
    },
    {
     "name": "stderr",
     "output_type": "stream",
     "text": [
      "\r",
      "Epoch:  90%|████████████████████████████████████████████████████████████████▊       | 18/20 [04:40<00:31, 15.54s/epoch]"
     ]
    },
    {
     "name": "stdout",
     "output_type": "stream",
     "text": [
      "Epoch 17: loss: 0.3687117099761963\n"
     ]
    },
    {
     "name": "stderr",
     "output_type": "stream",
     "text": [
      "\r",
      "Epoch:  95%|████████████████████████████████████████████████████████████████████▍   | 19/20 [04:56<00:15, 15.54s/epoch]"
     ]
    },
    {
     "name": "stdout",
     "output_type": "stream",
     "text": [
      "Epoch 18: loss: 0.00987316109240055\n"
     ]
    },
    {
     "name": "stderr",
     "output_type": "stream",
     "text": [
      "Epoch: 100%|████████████████████████████████████████████████████████████████████████| 20/20 [05:11<00:00, 15.58s/epoch]"
     ]
    },
    {
     "name": "stdout",
     "output_type": "stream",
     "text": [
      "Epoch 19: loss: 0.12921443581581116\n"
     ]
    },
    {
     "name": "stderr",
     "output_type": "stream",
     "text": [
      "\n"
     ]
    }
   ],
   "source": [
    "vgg_learning_rate = 1e-1\n",
    "vgg_nepochs = 20\n",
    "fish_batch_size = 64\n",
    "\n",
    "fish_train_dataset = DataLoader(fish_train_set, batch_size=fish_batch_size)\n",
    "\n",
    "vgg = VGG16(hidden_features=512, nout=30).to(device)\n",
    "\n",
    "vgg_optimizer = optim.SGD(vgg.parameters(), lr=vgg_learning_rate)\n",
    "\n",
    "loss_function = nn.CrossEntropyLoss()\n",
    "\n",
    "vgg.train()\n",
    "vgg_loss_history = []\n",
    "for epoch in tqdm(range(vgg_nepochs),\n",
    "                  desc=f\"Epoch\",\n",
    "                  unit=\"epoch\",\n",
    "                  disable=False):\n",
    "    vgg_loss_history.append(train_epoch(model=vgg, \n",
    "                                        train_data=fish_train_dataset, \n",
    "                                        LossFunction=loss_function, \n",
    "                                        optimizer=vgg_optimizer))\n",
    "    print(f\"Epoch {epoch}: loss: {vgg_loss_history[-1][-1]}\")"
   ]
  },
  {
   "cell_type": "code",
   "execution_count": 15,
   "id": "aaa0dcc6",
   "metadata": {},
   "outputs": [
    {
     "data": {
      "image/png": "[encoded data removed]",
      "text/plain": [
       "<Figure size 432x288 with 1 Axes>"
      ]
     },
     "metadata": {
      "needs_background": "light"
     },
     "output_type": "display_data"
    },
    {
     "name": "stdout",
     "output_type": "stream",
     "text": [
      "Total accuracy = 72.02%\n"
     ]
    }
   ],
   "source": [
    "fish_test_dataset = DataLoader(fish_test_set, batch_size=fish_batch_size)\n",
    "\n",
    "plt.plot(list(map(lambda x: x[-1], vgg_loss_history)))\n",
    "plt.title(\"Neural Network Loss: VGG16 w/ SGD\")    \n",
    "plt.xlabel(\"Number of Epochs\")\n",
    "plt.ylabel(\"Loss\")\n",
    "plt.show()\n",
    "vgg_accuracy = evaluate(vgg, fish_test_dataset)\n",
    "print(f\"Total accuracy = {vgg_accuracy / len(fish_test_set)*100:.2f}%\")"
   ]
  }
 ],
 "metadata": {
  "kernelspec": {
   "display_name": "Python 3 (ipykernel)",
   "language": "python",
   "name": "python3"
  },
  "language_info": {
   "codemirror_mode": {
    "name": "ipython",
    "version": 3
   },
   "file_extension": ".py",
   "mimetype": "text/x-python",
   "name": "python",
   "nbconvert_exporter": "python",
   "pygments_lexer": "ipython3",
   "version": "3.8.12"
  }
 },
 "nbformat": 4,
 "nbformat_minor": 5
}
