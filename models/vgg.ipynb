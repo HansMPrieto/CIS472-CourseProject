{
 "cells": [
  {
   "cell_type": "code",
   "execution_count": 1,
   "id": "08ffbc30",
   "metadata": {},
   "outputs": [],
   "source": [
    "import torch\n",
    "import torch.nn as nn"
   ]
  },
  {
   "cell_type": "code",
   "execution_count": 3,
   "id": "a4677dcf",
   "metadata": {},
   "outputs": [],
   "source": [
    "# possibly add other kinds of vgg?\n",
    "class VGG16(nn.Module):\n",
    "    def __init__(self, nout):\n",
    "        super().__init__()\n",
    "        self.conv_1a = nn.Conv2d(in_channels=3, out_channels=64, kernel_size=(3,3), padding=1)\n",
    "        self.conv_1b = nn.Conv2d(in_channels=64, out_channels=64, kernel_size=(3,3), padding=1)\n",
    "        self.conv_2a = nn.Conv2d(in_channels=64, out_channels=128, kernel_size=(3,3), padding=1)\n",
    "        self.conv_2b = nn.Conv2d(in_channels=128, out_channels=128, kernel_size=(3,3), padding=1)\n",
    "        self.conv_3a = nn.Conv2d(in_channels=128, out_channels=256, kernel_size=(3,3), padding=1)\n",
    "        self.conv_3b = nn.Conv2d(in_channels=256, out_channels=256, kernel_size=(3,3), padding=1)\n",
    "        self.conv_4a = nn.Conv2d(in_channels=256, out_channels=512, kernel_size=(3,3), padding=1)\n",
    "        self.conv_4b = nn.Conv2d(in_channels=512, out_channels=512, kernel_size=(3,3), padding=1)\n",
    "        self.relu = nn.ReLU(True)\n",
    "        self.pool = nn.MaxPool2d(2, 2)\n",
    "        self.linear_1 = nn.Linear(512, 512)\n",
    "        self.linear_2 = nn.Linear(512, 512)\n",
    "        self.linear_3 = nn.Linear(512, nout)\n",
    "        self.dropout = nn.Dropout()\n",
    "        self.batchnorm_64 = nn.BatchNorm2d(64)\n",
    "        self.batchnorm_128 = nn.BatchNorm2d(128)\n",
    "        self.batchnorm_256 = nn.BatchNorm2d(256)\n",
    "        self.batchnorm_512 = nn.BatchNorm2d(512)\n",
    "        \n",
    "    def forward(self, x):\n",
    "        x = self.relu(self.batchnorm_64(self.conv_1a(x)))\n",
    "        x = self.relu(self.batchnorm_64(self.conv_1b(x)))\n",
    "        x = self.pool(x)\n",
    "        x = self.relu(self.batchnorm_128(self.conv_2a(x)))\n",
    "        x = self.relu(self.batchnorm_128(self.conv_2b(x)))\n",
    "        x = self.pool(x)\n",
    "        x = self.relu(self.batchnorm_256(self.conv_3a(x)))\n",
    "        x = self.relu(self.batchnorm_256(self.conv_3b(x)))\n",
    "        x = self.relu(self.batchnorm_256(self.conv_3b(x)))\n",
    "        x = self.pool(x)\n",
    "        x = self.relu(self.batchnorm_512(self.conv_4a(x)))\n",
    "        x = self.relu(self.batchnorm_512(self.conv_4b(x)))\n",
    "        x = self.relu(self.batchnorm_512(self.conv_4b(x)))\n",
    "        x = self.pool(x)\n",
    "        x = self.relu(self.batchnorm_512(self.conv_4b(x)))\n",
    "        x = self.relu(self.batchnorm_512(self.conv_4b(x)))\n",
    "        x = self.relu(self.batchnorm_512(self.conv_4b(x)))\n",
    "        x = self.pool(x)\n",
    "        x = x.view(x.size(0), -1)\n",
    "        x = self.relu(self.linear_1(x))\n",
    "        x = self.dropout(x)\n",
    "        x = self.relu(self.linear_2(x))\n",
    "        x = self.dropout(x)\n",
    "        x = self.linear_3(x)\n",
    "        return x"
   ]
  },
  {
   "cell_type": "code",
   "execution_count": null,
   "id": "047b40f3",
   "metadata": {},
   "outputs": [],
   "source": []
  }
 ],
 "metadata": {
  "kernelspec": {
   "display_name": "Python 3 (ipykernel)",
   "language": "python",
   "name": "python3"
  },
  "language_info": {
   "codemirror_mode": {
    "name": "ipython",
    "version": 3
   },
   "file_extension": ".py",
   "mimetype": "text/x-python",
   "name": "python",
   "nbconvert_exporter": "python",
   "pygments_lexer": "ipython3",
   "version": "3.8.12"
  }
 },
 "nbformat": 4,
 "nbformat_minor": 5
}
